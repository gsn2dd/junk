{
  "nbformat": 4,
  "nbformat_minor": 0,
  "metadata": {
    "colab": {
      "name": "voilabear.ipynb",
      "provenance": [],
      "include_colab_link": true
    },
    "kernelspec": {
      "display_name": "Python 3",
      "language": "python",
      "name": "python3"
    },
    "language_info": {
      "codemirror_mode": {
        "name": "ipython",
        "version": 3
      },
      "file_extension": ".py",
      "mimetype": "text/x-python",
      "name": "python",
      "nbconvert_exporter": "python",
      "pygments_lexer": "ipython3",
      "version": "3.7.9"
    },
    "widgets": {
      "application/vnd.jupyter.widget-state+json": {
        "2ef91b0137f545d7966ce89ebef4482a": {
          "model_module": "@jupyter-widgets/controls",
          "model_name": "VBoxModel",
          "state": {
            "_view_name": "VBoxView",
            "_dom_classes": [],
            "_model_name": "VBoxModel",
            "_view_module": "@jupyter-widgets/controls",
            "_model_module_version": "1.5.0",
            "_view_count": null,
            "_view_module_version": "1.5.0",
            "box_style": "",
            "layout": "IPY_MODEL_c04948c1621546399364ee2fd457e58c",
            "_model_module": "@jupyter-widgets/controls",
            "children": [
              "IPY_MODEL_a4fcd1dbbcf846898ad08a74da336a72",
              "IPY_MODEL_eac82011119e4231b8d8335d399ee37d",
              "IPY_MODEL_e7f99eecdb3a489a8cffeecc1e0fb1c1",
              "IPY_MODEL_5f373f53466a48c482e8d82fa810038b"
            ]
          }
        },
        "c04948c1621546399364ee2fd457e58c": {
          "model_module": "@jupyter-widgets/base",
          "model_name": "LayoutModel",
          "state": {
            "_view_name": "LayoutView",
            "grid_template_rows": null,
            "right": null,
            "justify_content": null,
            "_view_module": "@jupyter-widgets/base",
            "overflow": null,
            "_model_module_version": "1.2.0",
            "_view_count": null,
            "flex_flow": null,
            "width": null,
            "min_width": null,
            "border": null,
            "align_items": null,
            "bottom": null,
            "_model_module": "@jupyter-widgets/base",
            "top": null,
            "grid_column": null,
            "overflow_y": null,
            "overflow_x": null,
            "grid_auto_flow": null,
            "grid_area": null,
            "grid_template_columns": null,
            "flex": null,
            "_model_name": "LayoutModel",
            "justify_items": null,
            "grid_row": null,
            "max_height": null,
            "align_content": null,
            "visibility": null,
            "align_self": null,
            "height": null,
            "min_height": null,
            "padding": null,
            "grid_auto_rows": null,
            "grid_gap": null,
            "max_width": null,
            "order": null,
            "_view_module_version": "1.2.0",
            "grid_template_areas": null,
            "object_position": null,
            "object_fit": null,
            "grid_auto_columns": null,
            "margin": null,
            "display": null,
            "left": null
          }
        },
        "a4fcd1dbbcf846898ad08a74da336a72": {
          "model_module": "@jupyter-widgets/controls",
          "model_name": "LabelModel",
          "state": {
            "_view_name": "LabelView",
            "style": "IPY_MODEL_1302eb56f628468d8e611acefe1a85cc",
            "_dom_classes": [],
            "description": "",
            "_model_name": "LabelModel",
            "placeholder": "​",
            "_view_module": "@jupyter-widgets/controls",
            "_model_module_version": "1.5.0",
            "value": "Select a bear image to classify - uploading will delay results; use small image!",
            "_view_count": null,
            "_view_module_version": "1.5.0",
            "description_tooltip": null,
            "_model_module": "@jupyter-widgets/controls",
            "layout": "IPY_MODEL_97804505dcae44e6b21c2bb0796fcea8"
          }
        },
        "eac82011119e4231b8d8335d399ee37d": {
          "model_module": "@jupyter-widgets/controls",
          "model_name": "FileUploadModel",
          "state": {
            "_view_name": "FileUploadView",
            "_counter": 2,
            "style": "IPY_MODEL_58a5f7451bb74ef0876dc3dc243cf152",
            "_dom_classes": [],
            "description": "Upload",
            "multiple": false,
            "_model_name": "FileUploadModel",
            "data": [
              null
            ],
            "button_style": "",
            "_view_module": "@jupyter-widgets/controls",
            "_model_module_version": "1.5.0",
            "accept": "",
            "_view_count": null,
            "disabled": false,
            "_view_module_version": "1.5.0",
            "error": "",
            "description_tooltip": null,
            "metadata": [
              {
                "name": "att_00009.png",
                "type": "image/png",
                "size": 38379,
                "lastModified": 1613225828171
              }
            ],
            "_model_module": "@jupyter-widgets/controls",
            "layout": "IPY_MODEL_63a3bd1d5f9344ac9e717352a3316464",
            "icon": "upload"
          }
        },
        "e7f99eecdb3a489a8cffeecc1e0fb1c1": {
          "model_module": "@jupyter-widgets/output",
          "model_name": "OutputModel",
          "state": {
            "_view_name": "OutputView",
            "msg_id": "",
            "_dom_classes": [],
            "_model_name": "OutputModel",
            "outputs": [
              {
                "output_type": "display_data",
                "metadata": {
                  "tags": []
                },
                "image/png": "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\n",
                "text/plain": "<PIL.Image.Image image mode=RGB size=128x72 at 0x7F6000F04090>"
              }
            ],
            "_view_module": "@jupyter-widgets/output",
            "_model_module_version": "1.0.0",
            "_view_count": null,
            "_view_module_version": "1.0.0",
            "layout": "IPY_MODEL_e7c6627962cd482685d291e69ca8c40a",
            "_model_module": "@jupyter-widgets/output"
          }
        },
        "5f373f53466a48c482e8d82fa810038b": {
          "model_module": "@jupyter-widgets/controls",
          "model_name": "LabelModel",
          "state": {
            "_view_name": "LabelView",
            "style": "IPY_MODEL_2702a0f7f91b42a5bc190816bf05e0fb",
            "_dom_classes": [],
            "description": "",
            "_model_name": "LabelModel",
            "placeholder": "​",
            "_view_module": "@jupyter-widgets/controls",
            "_model_module_version": "1.5.0",
            "value": "",
            "_view_count": null,
            "_view_module_version": "1.5.0",
            "description_tooltip": null,
            "_model_module": "@jupyter-widgets/controls",
            "layout": "IPY_MODEL_ec3127df7e0146bdbbfba86a369e91a4"
          }
        },
        "1302eb56f628468d8e611acefe1a85cc": {
          "model_module": "@jupyter-widgets/controls",
          "model_name": "DescriptionStyleModel",
          "state": {
            "_view_name": "StyleView",
            "_model_name": "DescriptionStyleModel",
            "description_width": "",
            "_view_module": "@jupyter-widgets/base",
            "_model_module_version": "1.5.0",
            "_view_count": null,
            "_view_module_version": "1.2.0",
            "_model_module": "@jupyter-widgets/controls"
          }
        },
        "97804505dcae44e6b21c2bb0796fcea8": {
          "model_module": "@jupyter-widgets/base",
          "model_name": "LayoutModel",
          "state": {
            "_view_name": "LayoutView",
            "grid_template_rows": null,
            "right": null,
            "justify_content": null,
            "_view_module": "@jupyter-widgets/base",
            "overflow": null,
            "_model_module_version": "1.2.0",
            "_view_count": null,
            "flex_flow": null,
            "width": null,
            "min_width": null,
            "border": null,
            "align_items": null,
            "bottom": null,
            "_model_module": "@jupyter-widgets/base",
            "top": null,
            "grid_column": null,
            "overflow_y": null,
            "overflow_x": null,
            "grid_auto_flow": null,
            "grid_area": null,
            "grid_template_columns": null,
            "flex": null,
            "_model_name": "LayoutModel",
            "justify_items": null,
            "grid_row": null,
            "max_height": null,
            "align_content": null,
            "visibility": null,
            "align_self": null,
            "height": null,
            "min_height": null,
            "padding": null,
            "grid_auto_rows": null,
            "grid_gap": null,
            "max_width": null,
            "order": null,
            "_view_module_version": "1.2.0",
            "grid_template_areas": null,
            "object_position": null,
            "object_fit": null,
            "grid_auto_columns": null,
            "margin": null,
            "display": null,
            "left": null
          }
        },
        "58a5f7451bb74ef0876dc3dc243cf152": {
          "model_module": "@jupyter-widgets/controls",
          "model_name": "ButtonStyleModel",
          "state": {
            "_view_name": "StyleView",
            "_model_name": "ButtonStyleModel",
            "_view_module": "@jupyter-widgets/base",
            "_model_module_version": "1.5.0",
            "_view_count": null,
            "button_color": null,
            "font_weight": "",
            "_view_module_version": "1.2.0",
            "_model_module": "@jupyter-widgets/controls"
          }
        },
        "63a3bd1d5f9344ac9e717352a3316464": {
          "model_module": "@jupyter-widgets/base",
          "model_name": "LayoutModel",
          "state": {
            "_view_name": "LayoutView",
            "grid_template_rows": null,
            "right": null,
            "justify_content": null,
            "_view_module": "@jupyter-widgets/base",
            "overflow": null,
            "_model_module_version": "1.2.0",
            "_view_count": null,
            "flex_flow": null,
            "width": null,
            "min_width": null,
            "border": null,
            "align_items": null,
            "bottom": null,
            "_model_module": "@jupyter-widgets/base",
            "top": null,
            "grid_column": null,
            "overflow_y": null,
            "overflow_x": null,
            "grid_auto_flow": null,
            "grid_area": null,
            "grid_template_columns": null,
            "flex": null,
            "_model_name": "LayoutModel",
            "justify_items": null,
            "grid_row": null,
            "max_height": null,
            "align_content": null,
            "visibility": null,
            "align_self": null,
            "height": null,
            "min_height": null,
            "padding": null,
            "grid_auto_rows": null,
            "grid_gap": null,
            "max_width": null,
            "order": null,
            "_view_module_version": "1.2.0",
            "grid_template_areas": null,
            "object_position": null,
            "object_fit": null,
            "grid_auto_columns": null,
            "margin": null,
            "display": null,
            "left": null
          }
        },
        "2702a0f7f91b42a5bc190816bf05e0fb": {
          "model_module": "@jupyter-widgets/controls",
          "model_name": "DescriptionStyleModel",
          "state": {
            "_view_name": "StyleView",
            "_model_name": "DescriptionStyleModel",
            "description_width": "",
            "_view_module": "@jupyter-widgets/base",
            "_model_module_version": "1.5.0",
            "_view_count": null,
            "_view_module_version": "1.2.0",
            "_model_module": "@jupyter-widgets/controls"
          }
        },
        "ec3127df7e0146bdbbfba86a369e91a4": {
          "model_module": "@jupyter-widgets/base",
          "model_name": "LayoutModel",
          "state": {
            "_view_name": "LayoutView",
            "grid_template_rows": null,
            "right": null,
            "justify_content": null,
            "_view_module": "@jupyter-widgets/base",
            "overflow": null,
            "_model_module_version": "1.2.0",
            "_view_count": null,
            "flex_flow": null,
            "width": null,
            "min_width": null,
            "border": null,
            "align_items": null,
            "bottom": null,
            "_model_module": "@jupyter-widgets/base",
            "top": null,
            "grid_column": null,
            "overflow_y": null,
            "overflow_x": null,
            "grid_auto_flow": null,
            "grid_area": null,
            "grid_template_columns": null,
            "flex": null,
            "_model_name": "LayoutModel",
            "justify_items": null,
            "grid_row": null,
            "max_height": null,
            "align_content": null,
            "visibility": null,
            "align_self": null,
            "height": null,
            "min_height": null,
            "padding": null,
            "grid_auto_rows": null,
            "grid_gap": null,
            "max_width": null,
            "order": null,
            "_view_module_version": "1.2.0",
            "grid_template_areas": null,
            "object_position": null,
            "object_fit": null,
            "grid_auto_columns": null,
            "margin": null,
            "display": null,
            "left": null
          }
        },
        "e7c6627962cd482685d291e69ca8c40a": {
          "model_module": "@jupyter-widgets/base",
          "model_name": "LayoutModel",
          "state": {
            "_view_name": "LayoutView",
            "grid_template_rows": null,
            "right": null,
            "justify_content": null,
            "_view_module": "@jupyter-widgets/base",
            "overflow": null,
            "_model_module_version": "1.2.0",
            "_view_count": null,
            "flex_flow": null,
            "width": null,
            "min_width": null,
            "border": null,
            "align_items": null,
            "bottom": null,
            "_model_module": "@jupyter-widgets/base",
            "top": null,
            "grid_column": null,
            "overflow_y": null,
            "overflow_x": null,
            "grid_auto_flow": null,
            "grid_area": null,
            "grid_template_columns": null,
            "flex": null,
            "_model_name": "LayoutModel",
            "justify_items": null,
            "grid_row": null,
            "max_height": null,
            "align_content": null,
            "visibility": null,
            "align_self": null,
            "height": null,
            "min_height": null,
            "padding": null,
            "grid_auto_rows": null,
            "grid_gap": null,
            "max_width": null,
            "order": null,
            "_view_module_version": "1.2.0",
            "grid_template_areas": null,
            "object_position": null,
            "object_fit": null,
            "grid_auto_columns": null,
            "margin": null,
            "display": null,
            "left": null
          }
        }
      }
    }
  },
  "cells": [
    {
      "cell_type": "markdown",
      "metadata": {
        "id": "view-in-github",
        "colab_type": "text"
      },
      "source": [
        "<a href=\"https://colab.research.google.com/github/gsn2dd/junk/blob/main/voilabear-local2.ipynb\" target=\"_parent\"><img src=\"https://colab.research.google.com/assets/colab-badge.svg\" alt=\"Open In Colab\"/></a>"
      ]
    },
    {
      "cell_type": "code",
      "metadata": {
        "id": "aEQz8gR74Q1Z"
      },
      "source": [
        "# bear classifier - evaluates if a bear is a teddy or a black or grizzly bear\n",
        "!pip install -Uqq fastai>=2\n",
        "from fastai.vision.all import *\n",
        "from fastai.vision.widgets import *"
      ],
      "execution_count": 1,
      "outputs": []
    },
    {
      "cell_type": "code",
      "metadata": {
        "colab": {
          "base_uri": "https://localhost:8080/",
          "height": 363
        },
        "id": "5uZKAK9cq5Yq",
        "outputId": "a67eaaea-9f1a-4495-b8d8-a1608559327b"
      },
      "source": [
        "# load model and show vocab\n",
        "learn_inf=load_learner('export.pkl')\n",
        "# all possible responses\n",
        "learn_inf.dls.vocab"
      ],
      "execution_count": 2,
      "outputs": [
        {
          "output_type": "error",
          "ename": "FileNotFoundError",
          "evalue": "ignored",
          "traceback": [
            "\u001b[0;31m---------------------------------------------------------------------------\u001b[0m",
            "\u001b[0;31mFileNotFoundError\u001b[0m                         Traceback (most recent call last)",
            "\u001b[0;32m<ipython-input-2-95a10594e743>\u001b[0m in \u001b[0;36m<module>\u001b[0;34m()\u001b[0m\n\u001b[1;32m      1\u001b[0m \u001b[0;31m# load model and show vocab\u001b[0m\u001b[0;34m\u001b[0m\u001b[0;34m\u001b[0m\u001b[0;34m\u001b[0m\u001b[0m\n\u001b[0;32m----> 2\u001b[0;31m \u001b[0mlearn_inf\u001b[0m\u001b[0;34m=\u001b[0m\u001b[0mload_learner\u001b[0m\u001b[0;34m(\u001b[0m\u001b[0;34m'export.pkl'\u001b[0m\u001b[0;34m)\u001b[0m\u001b[0;34m\u001b[0m\u001b[0;34m\u001b[0m\u001b[0m\n\u001b[0m\u001b[1;32m      3\u001b[0m \u001b[0;31m# all possible responses\u001b[0m\u001b[0;34m\u001b[0m\u001b[0;34m\u001b[0m\u001b[0;34m\u001b[0m\u001b[0m\n\u001b[1;32m      4\u001b[0m \u001b[0mlearn_inf\u001b[0m\u001b[0;34m.\u001b[0m\u001b[0mdls\u001b[0m\u001b[0;34m.\u001b[0m\u001b[0mvocab\u001b[0m\u001b[0;34m\u001b[0m\u001b[0;34m\u001b[0m\u001b[0m\n",
            "\u001b[0;32m/usr/local/lib/python3.7/dist-packages/fastai/learner.py\u001b[0m in \u001b[0;36mload_learner\u001b[0;34m(fname, cpu, pickle_module)\u001b[0m\n\u001b[1;32m    372\u001b[0m     \u001b[0;34m\"Load a `Learner` object in `fname`, optionally putting it on the `cpu`\"\u001b[0m\u001b[0;34m\u001b[0m\u001b[0;34m\u001b[0m\u001b[0m\n\u001b[1;32m    373\u001b[0m     \u001b[0mdistrib_barrier\u001b[0m\u001b[0;34m(\u001b[0m\u001b[0;34m)\u001b[0m\u001b[0;34m\u001b[0m\u001b[0;34m\u001b[0m\u001b[0m\n\u001b[0;32m--> 374\u001b[0;31m     \u001b[0mres\u001b[0m \u001b[0;34m=\u001b[0m \u001b[0mtorch\u001b[0m\u001b[0;34m.\u001b[0m\u001b[0mload\u001b[0m\u001b[0;34m(\u001b[0m\u001b[0mfname\u001b[0m\u001b[0;34m,\u001b[0m \u001b[0mmap_location\u001b[0m\u001b[0;34m=\u001b[0m\u001b[0;34m'cpu'\u001b[0m \u001b[0;32mif\u001b[0m \u001b[0mcpu\u001b[0m \u001b[0;32melse\u001b[0m \u001b[0;32mNone\u001b[0m\u001b[0;34m,\u001b[0m \u001b[0mpickle_module\u001b[0m\u001b[0;34m=\u001b[0m\u001b[0mpickle_module\u001b[0m\u001b[0;34m)\u001b[0m\u001b[0;34m\u001b[0m\u001b[0;34m\u001b[0m\u001b[0m\n\u001b[0m\u001b[1;32m    375\u001b[0m     \u001b[0;32mif\u001b[0m \u001b[0mhasattr\u001b[0m\u001b[0;34m(\u001b[0m\u001b[0mres\u001b[0m\u001b[0;34m,\u001b[0m \u001b[0;34m'to_fp32'\u001b[0m\u001b[0;34m)\u001b[0m\u001b[0;34m:\u001b[0m \u001b[0mres\u001b[0m \u001b[0;34m=\u001b[0m \u001b[0mres\u001b[0m\u001b[0;34m.\u001b[0m\u001b[0mto_fp32\u001b[0m\u001b[0;34m(\u001b[0m\u001b[0;34m)\u001b[0m\u001b[0;34m\u001b[0m\u001b[0;34m\u001b[0m\u001b[0m\n\u001b[1;32m    376\u001b[0m     \u001b[0;32mif\u001b[0m \u001b[0mcpu\u001b[0m\u001b[0;34m:\u001b[0m \u001b[0mres\u001b[0m\u001b[0;34m.\u001b[0m\u001b[0mdls\u001b[0m\u001b[0;34m.\u001b[0m\u001b[0mcpu\u001b[0m\u001b[0;34m(\u001b[0m\u001b[0;34m)\u001b[0m\u001b[0;34m\u001b[0m\u001b[0;34m\u001b[0m\u001b[0m\n",
            "\u001b[0;32m/usr/local/lib/python3.7/dist-packages/torch/serialization.py\u001b[0m in \u001b[0;36mload\u001b[0;34m(f, map_location, pickle_module, **pickle_load_args)\u001b[0m\n\u001b[1;32m    579\u001b[0m         \u001b[0mpickle_load_args\u001b[0m\u001b[0;34m[\u001b[0m\u001b[0;34m'encoding'\u001b[0m\u001b[0;34m]\u001b[0m \u001b[0;34m=\u001b[0m \u001b[0;34m'utf-8'\u001b[0m\u001b[0;34m\u001b[0m\u001b[0;34m\u001b[0m\u001b[0m\n\u001b[1;32m    580\u001b[0m \u001b[0;34m\u001b[0m\u001b[0m\n\u001b[0;32m--> 581\u001b[0;31m     \u001b[0;32mwith\u001b[0m \u001b[0m_open_file_like\u001b[0m\u001b[0;34m(\u001b[0m\u001b[0mf\u001b[0m\u001b[0;34m,\u001b[0m \u001b[0;34m'rb'\u001b[0m\u001b[0;34m)\u001b[0m \u001b[0;32mas\u001b[0m \u001b[0mopened_file\u001b[0m\u001b[0;34m:\u001b[0m\u001b[0;34m\u001b[0m\u001b[0;34m\u001b[0m\u001b[0m\n\u001b[0m\u001b[1;32m    582\u001b[0m         \u001b[0;32mif\u001b[0m \u001b[0m_is_zipfile\u001b[0m\u001b[0;34m(\u001b[0m\u001b[0mopened_file\u001b[0m\u001b[0;34m)\u001b[0m\u001b[0;34m:\u001b[0m\u001b[0;34m\u001b[0m\u001b[0;34m\u001b[0m\u001b[0m\n\u001b[1;32m    583\u001b[0m             \u001b[0;31m# The zipfile reader is going to advance the current file position.\u001b[0m\u001b[0;34m\u001b[0m\u001b[0;34m\u001b[0m\u001b[0;34m\u001b[0m\u001b[0m\n",
            "\u001b[0;32m/usr/local/lib/python3.7/dist-packages/torch/serialization.py\u001b[0m in \u001b[0;36m_open_file_like\u001b[0;34m(name_or_buffer, mode)\u001b[0m\n\u001b[1;32m    228\u001b[0m \u001b[0;32mdef\u001b[0m \u001b[0m_open_file_like\u001b[0m\u001b[0;34m(\u001b[0m\u001b[0mname_or_buffer\u001b[0m\u001b[0;34m,\u001b[0m \u001b[0mmode\u001b[0m\u001b[0;34m)\u001b[0m\u001b[0;34m:\u001b[0m\u001b[0;34m\u001b[0m\u001b[0;34m\u001b[0m\u001b[0m\n\u001b[1;32m    229\u001b[0m     \u001b[0;32mif\u001b[0m \u001b[0m_is_path\u001b[0m\u001b[0;34m(\u001b[0m\u001b[0mname_or_buffer\u001b[0m\u001b[0;34m)\u001b[0m\u001b[0;34m:\u001b[0m\u001b[0;34m\u001b[0m\u001b[0;34m\u001b[0m\u001b[0m\n\u001b[0;32m--> 230\u001b[0;31m         \u001b[0;32mreturn\u001b[0m \u001b[0m_open_file\u001b[0m\u001b[0;34m(\u001b[0m\u001b[0mname_or_buffer\u001b[0m\u001b[0;34m,\u001b[0m \u001b[0mmode\u001b[0m\u001b[0;34m)\u001b[0m\u001b[0;34m\u001b[0m\u001b[0;34m\u001b[0m\u001b[0m\n\u001b[0m\u001b[1;32m    231\u001b[0m     \u001b[0;32melse\u001b[0m\u001b[0;34m:\u001b[0m\u001b[0;34m\u001b[0m\u001b[0;34m\u001b[0m\u001b[0m\n\u001b[1;32m    232\u001b[0m         \u001b[0;32mif\u001b[0m \u001b[0;34m'w'\u001b[0m \u001b[0;32min\u001b[0m \u001b[0mmode\u001b[0m\u001b[0;34m:\u001b[0m\u001b[0;34m\u001b[0m\u001b[0;34m\u001b[0m\u001b[0m\n",
            "\u001b[0;32m/usr/local/lib/python3.7/dist-packages/torch/serialization.py\u001b[0m in \u001b[0;36m__init__\u001b[0;34m(self, name, mode)\u001b[0m\n\u001b[1;32m    209\u001b[0m \u001b[0;32mclass\u001b[0m \u001b[0m_open_file\u001b[0m\u001b[0;34m(\u001b[0m\u001b[0m_opener\u001b[0m\u001b[0;34m)\u001b[0m\u001b[0;34m:\u001b[0m\u001b[0;34m\u001b[0m\u001b[0;34m\u001b[0m\u001b[0m\n\u001b[1;32m    210\u001b[0m     \u001b[0;32mdef\u001b[0m \u001b[0m__init__\u001b[0m\u001b[0;34m(\u001b[0m\u001b[0mself\u001b[0m\u001b[0;34m,\u001b[0m \u001b[0mname\u001b[0m\u001b[0;34m,\u001b[0m \u001b[0mmode\u001b[0m\u001b[0;34m)\u001b[0m\u001b[0;34m:\u001b[0m\u001b[0;34m\u001b[0m\u001b[0;34m\u001b[0m\u001b[0m\n\u001b[0;32m--> 211\u001b[0;31m         \u001b[0msuper\u001b[0m\u001b[0;34m(\u001b[0m\u001b[0m_open_file\u001b[0m\u001b[0;34m,\u001b[0m \u001b[0mself\u001b[0m\u001b[0;34m)\u001b[0m\u001b[0;34m.\u001b[0m\u001b[0m__init__\u001b[0m\u001b[0;34m(\u001b[0m\u001b[0mopen\u001b[0m\u001b[0;34m(\u001b[0m\u001b[0mname\u001b[0m\u001b[0;34m,\u001b[0m \u001b[0mmode\u001b[0m\u001b[0;34m)\u001b[0m\u001b[0;34m)\u001b[0m\u001b[0;34m\u001b[0m\u001b[0;34m\u001b[0m\u001b[0m\n\u001b[0m\u001b[1;32m    212\u001b[0m \u001b[0;34m\u001b[0m\u001b[0m\n\u001b[1;32m    213\u001b[0m     \u001b[0;32mdef\u001b[0m \u001b[0m__exit__\u001b[0m\u001b[0;34m(\u001b[0m\u001b[0mself\u001b[0m\u001b[0;34m,\u001b[0m \u001b[0;34m*\u001b[0m\u001b[0margs\u001b[0m\u001b[0;34m)\u001b[0m\u001b[0;34m:\u001b[0m\u001b[0;34m\u001b[0m\u001b[0;34m\u001b[0m\u001b[0m\n",
            "\u001b[0;31mFileNotFoundError\u001b[0m: [Errno 2] No such file or directory: 'export.pkl'"
          ]
        }
      ]
    },
    {
      "cell_type": "code",
      "metadata": {
        "id": "fd0pxU7bXgyA"
      },
      "source": [
        "# define label area\n",
        "lbl_pred = widgets.Label()\n",
        "# and file upload button and classify buttons\n",
        "btn_upload = widgets.FileUpload()\n"
      ],
      "execution_count": 3,
      "outputs": []
    },
    {
      "cell_type": "code",
      "metadata": {
        "id": "BYm4Paf-1zAk"
      },
      "source": [
        "# function to pass uploaded image to bear detector model\n",
        "def on_click_classify(change):\n",
        "    img = PILImage.create(btn_upload.data[-1])\n",
        "    out_pl.clear_output()\n",
        "    with out_pl: display(img.to_thumb(128,128))\n",
        "    pred,pred_idx,probs = learn_inf.predict(img)\n",
        "    lbl_pred.value = f'Prediction: {pred}; Probability: {probs[pred_idx]:.04f}'\n",
        "\n",
        "btn_upload.observe(on_click_classify)"
      ],
      "execution_count": 8,
      "outputs": []
    },
    {
      "cell_type": "code",
      "metadata": {
        "id": "UioLWE3tdzph",
        "outputId": "2159fa8a-f2f5-43cc-d90a-8af7bf59a0e4",
        "colab": {
          "base_uri": "https://localhost:8080/",
          "height": 548,
          "referenced_widgets": [
            "2ef91b0137f545d7966ce89ebef4482a",
            "c04948c1621546399364ee2fd457e58c",
            "a4fcd1dbbcf846898ad08a74da336a72",
            "eac82011119e4231b8d8335d399ee37d",
            "e7f99eecdb3a489a8cffeecc1e0fb1c1",
            "5f373f53466a48c482e8d82fa810038b",
            "1302eb56f628468d8e611acefe1a85cc",
            "97804505dcae44e6b21c2bb0796fcea8",
            "58a5f7451bb74ef0876dc3dc243cf152",
            "63a3bd1d5f9344ac9e717352a3316464",
            "2702a0f7f91b42a5bc190816bf05e0fb",
            "ec3127df7e0146bdbbfba86a369e91a4",
            "e7c6627962cd482685d291e69ca8c40a"
          ]
        }
      },
      "source": [
        "# displays UI and results\n",
        "out_pl = widgets.Output()\n",
        "VBox([widgets.Label('Select a bear image to classify - uploading will delay results; use small image!'), \n",
        "      btn_upload, out_pl, lbl_pred])"
      ],
      "execution_count": 9,
      "outputs": [
        {
          "output_type": "display_data",
          "data": {
            "application/vnd.jupyter.widget-view+json": {
              "model_id": "2ef91b0137f545d7966ce89ebef4482a",
              "version_minor": 0,
              "version_major": 2
            },
            "text/plain": [
              "VBox(children=(Label(value='Select a bear image to classify - uploading will delay results; use small image!')…"
            ]
          },
          "metadata": {
            "tags": []
          }
        },
        {
          "output_type": "error",
          "ename": "NameError",
          "evalue": "ignored",
          "traceback": [
            "\u001b[0;31m---------------------------------------------------------------------------\u001b[0m",
            "\u001b[0;31mNameError\u001b[0m                                 Traceback (most recent call last)",
            "\u001b[0;32m/usr/local/lib/python3.7/dist-packages/ipywidgets/widgets/widget.py\u001b[0m in \u001b[0;36m_handle_msg\u001b[0;34m(self, msg)\u001b[0m\n\u001b[1;32m    674\u001b[0m                 \u001b[0;32mif\u001b[0m \u001b[0;34m'buffer_paths'\u001b[0m \u001b[0;32min\u001b[0m \u001b[0mdata\u001b[0m\u001b[0;34m:\u001b[0m\u001b[0;34m\u001b[0m\u001b[0;34m\u001b[0m\u001b[0m\n\u001b[1;32m    675\u001b[0m                     \u001b[0m_put_buffers\u001b[0m\u001b[0;34m(\u001b[0m\u001b[0mstate\u001b[0m\u001b[0;34m,\u001b[0m \u001b[0mdata\u001b[0m\u001b[0;34m[\u001b[0m\u001b[0;34m'buffer_paths'\u001b[0m\u001b[0;34m]\u001b[0m\u001b[0;34m,\u001b[0m \u001b[0mmsg\u001b[0m\u001b[0;34m[\u001b[0m\u001b[0;34m'buffers'\u001b[0m\u001b[0;34m]\u001b[0m\u001b[0;34m)\u001b[0m\u001b[0;34m\u001b[0m\u001b[0;34m\u001b[0m\u001b[0m\n\u001b[0;32m--> 676\u001b[0;31m                 \u001b[0mself\u001b[0m\u001b[0;34m.\u001b[0m\u001b[0mset_state\u001b[0m\u001b[0;34m(\u001b[0m\u001b[0mstate\u001b[0m\u001b[0;34m)\u001b[0m\u001b[0;34m\u001b[0m\u001b[0;34m\u001b[0m\u001b[0m\n\u001b[0m\u001b[1;32m    677\u001b[0m \u001b[0;34m\u001b[0m\u001b[0m\n\u001b[1;32m    678\u001b[0m         \u001b[0;31m# Handle a state request.\u001b[0m\u001b[0;34m\u001b[0m\u001b[0;34m\u001b[0m\u001b[0;34m\u001b[0m\u001b[0m\n",
            "\u001b[0;32m/usr/local/lib/python3.7/dist-packages/ipywidgets/widgets/widget.py\u001b[0m in \u001b[0;36mset_state\u001b[0;34m(self, sync_data)\u001b[0m\n\u001b[1;32m    538\u001b[0m         \u001b[0;31m# be locked when the hold_trait_notification context manager is\u001b[0m\u001b[0;34m\u001b[0m\u001b[0;34m\u001b[0m\u001b[0;34m\u001b[0m\u001b[0m\n\u001b[1;32m    539\u001b[0m         \u001b[0;31m# released and notifications are fired.\u001b[0m\u001b[0;34m\u001b[0m\u001b[0;34m\u001b[0m\u001b[0;34m\u001b[0m\u001b[0m\n\u001b[0;32m--> 540\u001b[0;31m         \u001b[0;32mwith\u001b[0m \u001b[0mself\u001b[0m\u001b[0;34m.\u001b[0m\u001b[0m_lock_property\u001b[0m\u001b[0;34m(\u001b[0m\u001b[0;34m**\u001b[0m\u001b[0msync_data\u001b[0m\u001b[0;34m)\u001b[0m\u001b[0;34m,\u001b[0m \u001b[0mself\u001b[0m\u001b[0;34m.\u001b[0m\u001b[0mhold_trait_notifications\u001b[0m\u001b[0;34m(\u001b[0m\u001b[0;34m)\u001b[0m\u001b[0;34m:\u001b[0m\u001b[0;34m\u001b[0m\u001b[0;34m\u001b[0m\u001b[0m\n\u001b[0m\u001b[1;32m    541\u001b[0m             \u001b[0;32mfor\u001b[0m \u001b[0mname\u001b[0m \u001b[0;32min\u001b[0m \u001b[0msync_data\u001b[0m\u001b[0;34m:\u001b[0m\u001b[0;34m\u001b[0m\u001b[0;34m\u001b[0m\u001b[0m\n\u001b[1;32m    542\u001b[0m                 \u001b[0;32mif\u001b[0m \u001b[0mname\u001b[0m \u001b[0;32min\u001b[0m \u001b[0mself\u001b[0m\u001b[0;34m.\u001b[0m\u001b[0mkeys\u001b[0m\u001b[0;34m:\u001b[0m\u001b[0;34m\u001b[0m\u001b[0;34m\u001b[0m\u001b[0m\n",
            "\u001b[0;32m/usr/lib/python3.7/contextlib.py\u001b[0m in \u001b[0;36m__enter__\u001b[0;34m(self)\u001b[0m\n\u001b[1;32m    110\u001b[0m         \u001b[0;32mdel\u001b[0m \u001b[0mself\u001b[0m\u001b[0;34m.\u001b[0m\u001b[0margs\u001b[0m\u001b[0;34m,\u001b[0m \u001b[0mself\u001b[0m\u001b[0;34m.\u001b[0m\u001b[0mkwds\u001b[0m\u001b[0;34m,\u001b[0m \u001b[0mself\u001b[0m\u001b[0;34m.\u001b[0m\u001b[0mfunc\u001b[0m\u001b[0;34m\u001b[0m\u001b[0;34m\u001b[0m\u001b[0m\n\u001b[1;32m    111\u001b[0m         \u001b[0;32mtry\u001b[0m\u001b[0;34m:\u001b[0m\u001b[0;34m\u001b[0m\u001b[0;34m\u001b[0m\u001b[0m\n\u001b[0;32m--> 112\u001b[0;31m             \u001b[0;32mreturn\u001b[0m \u001b[0mnext\u001b[0m\u001b[0;34m(\u001b[0m\u001b[0mself\u001b[0m\u001b[0;34m.\u001b[0m\u001b[0mgen\u001b[0m\u001b[0;34m)\u001b[0m\u001b[0;34m\u001b[0m\u001b[0;34m\u001b[0m\u001b[0m\n\u001b[0m\u001b[1;32m    113\u001b[0m         \u001b[0;32mexcept\u001b[0m \u001b[0mStopIteration\u001b[0m\u001b[0;34m:\u001b[0m\u001b[0;34m\u001b[0m\u001b[0;34m\u001b[0m\u001b[0m\n\u001b[1;32m    114\u001b[0m             \u001b[0;32mraise\u001b[0m \u001b[0mRuntimeError\u001b[0m\u001b[0;34m(\u001b[0m\u001b[0;34m\"generator didn't yield\"\u001b[0m\u001b[0;34m)\u001b[0m \u001b[0;32mfrom\u001b[0m \u001b[0;32mNone\u001b[0m\u001b[0;34m\u001b[0m\u001b[0;34m\u001b[0m\u001b[0m\n",
            "\u001b[0;32m/usr/local/lib/python3.7/dist-packages/ipywidgets/widgets/widget.py\u001b[0m in \u001b[0;36m_lock_property\u001b[0;34m(self, **properties)\u001b[0m\n\u001b[1;32m    622\u001b[0m         \u001b[0mflawed\u001b[0m\u001b[0;34m.\u001b[0m  \u001b[0mIn\u001b[0m \u001b[0mthe\u001b[0m \u001b[0mfuture\u001b[0m \u001b[0mwe\u001b[0m \u001b[0mmay\u001b[0m \u001b[0mwant\u001b[0m \u001b[0mto\u001b[0m \u001b[0mlook\u001b[0m \u001b[0minto\u001b[0m \u001b[0mbuffering\u001b[0m \u001b[0mstate\u001b[0m \u001b[0mchanges\u001b[0m\u001b[0;34m\u001b[0m\u001b[0;34m\u001b[0m\u001b[0m\n\u001b[1;32m    623\u001b[0m         back to the front-end.\"\"\"\n\u001b[0;32m--> 624\u001b[0;31m         \u001b[0mself\u001b[0m\u001b[0;34m.\u001b[0m\u001b[0m_property_lock\u001b[0m \u001b[0;34m=\u001b[0m \u001b[0mproperties\u001b[0m\u001b[0;34m\u001b[0m\u001b[0;34m\u001b[0m\u001b[0m\n\u001b[0m\u001b[1;32m    625\u001b[0m         \u001b[0;32mtry\u001b[0m\u001b[0;34m:\u001b[0m\u001b[0;34m\u001b[0m\u001b[0;34m\u001b[0m\u001b[0m\n\u001b[1;32m    626\u001b[0m             \u001b[0;32myield\u001b[0m\u001b[0;34m\u001b[0m\u001b[0;34m\u001b[0m\u001b[0m\n",
            "\u001b[0;32m/usr/local/lib/python3.7/dist-packages/traitlets/traitlets.py\u001b[0m in \u001b[0;36m__set__\u001b[0;34m(self, obj, value)\u001b[0m\n\u001b[1;32m    583\u001b[0m             \u001b[0;32mraise\u001b[0m \u001b[0mTraitError\u001b[0m\u001b[0;34m(\u001b[0m\u001b[0;34m'The \"%s\" trait is read-only.'\u001b[0m \u001b[0;34m%\u001b[0m \u001b[0mself\u001b[0m\u001b[0;34m.\u001b[0m\u001b[0mname\u001b[0m\u001b[0;34m)\u001b[0m\u001b[0;34m\u001b[0m\u001b[0;34m\u001b[0m\u001b[0m\n\u001b[1;32m    584\u001b[0m         \u001b[0;32melse\u001b[0m\u001b[0;34m:\u001b[0m\u001b[0;34m\u001b[0m\u001b[0;34m\u001b[0m\u001b[0m\n\u001b[0;32m--> 585\u001b[0;31m             \u001b[0mself\u001b[0m\u001b[0;34m.\u001b[0m\u001b[0mset\u001b[0m\u001b[0;34m(\u001b[0m\u001b[0mobj\u001b[0m\u001b[0;34m,\u001b[0m \u001b[0mvalue\u001b[0m\u001b[0;34m)\u001b[0m\u001b[0;34m\u001b[0m\u001b[0;34m\u001b[0m\u001b[0m\n\u001b[0m\u001b[1;32m    586\u001b[0m \u001b[0;34m\u001b[0m\u001b[0m\n\u001b[1;32m    587\u001b[0m     \u001b[0;32mdef\u001b[0m \u001b[0m_validate\u001b[0m\u001b[0;34m(\u001b[0m\u001b[0mself\u001b[0m\u001b[0;34m,\u001b[0m \u001b[0mobj\u001b[0m\u001b[0;34m,\u001b[0m \u001b[0mvalue\u001b[0m\u001b[0;34m)\u001b[0m\u001b[0;34m:\u001b[0m\u001b[0;34m\u001b[0m\u001b[0;34m\u001b[0m\u001b[0m\n",
            "\u001b[0;32m/usr/local/lib/python3.7/dist-packages/traitlets/traitlets.py\u001b[0m in \u001b[0;36mset\u001b[0;34m(self, obj, value)\u001b[0m\n\u001b[1;32m    572\u001b[0m             \u001b[0;31m# we explicitly compare silent to True just in case the equality\u001b[0m\u001b[0;34m\u001b[0m\u001b[0;34m\u001b[0m\u001b[0;34m\u001b[0m\u001b[0m\n\u001b[1;32m    573\u001b[0m             \u001b[0;31m# comparison above returns something other than True/False\u001b[0m\u001b[0;34m\u001b[0m\u001b[0;34m\u001b[0m\u001b[0;34m\u001b[0m\u001b[0m\n\u001b[0;32m--> 574\u001b[0;31m             \u001b[0mobj\u001b[0m\u001b[0;34m.\u001b[0m\u001b[0m_notify_trait\u001b[0m\u001b[0;34m(\u001b[0m\u001b[0mself\u001b[0m\u001b[0;34m.\u001b[0m\u001b[0mname\u001b[0m\u001b[0;34m,\u001b[0m \u001b[0mold_value\u001b[0m\u001b[0;34m,\u001b[0m \u001b[0mnew_value\u001b[0m\u001b[0;34m)\u001b[0m\u001b[0;34m\u001b[0m\u001b[0;34m\u001b[0m\u001b[0m\n\u001b[0m\u001b[1;32m    575\u001b[0m \u001b[0;34m\u001b[0m\u001b[0m\n\u001b[1;32m    576\u001b[0m     \u001b[0;32mdef\u001b[0m \u001b[0m__set__\u001b[0m\u001b[0;34m(\u001b[0m\u001b[0mself\u001b[0m\u001b[0;34m,\u001b[0m \u001b[0mobj\u001b[0m\u001b[0;34m,\u001b[0m \u001b[0mvalue\u001b[0m\u001b[0;34m)\u001b[0m\u001b[0;34m:\u001b[0m\u001b[0;34m\u001b[0m\u001b[0;34m\u001b[0m\u001b[0m\n",
            "\u001b[0;32m/usr/local/lib/python3.7/dist-packages/traitlets/traitlets.py\u001b[0m in \u001b[0;36m_notify_trait\u001b[0;34m(self, name, old_value, new_value)\u001b[0m\n\u001b[1;32m   1137\u001b[0m             \u001b[0mnew\u001b[0m\u001b[0;34m=\u001b[0m\u001b[0mnew_value\u001b[0m\u001b[0;34m,\u001b[0m\u001b[0;34m\u001b[0m\u001b[0;34m\u001b[0m\u001b[0m\n\u001b[1;32m   1138\u001b[0m             \u001b[0mowner\u001b[0m\u001b[0;34m=\u001b[0m\u001b[0mself\u001b[0m\u001b[0;34m,\u001b[0m\u001b[0;34m\u001b[0m\u001b[0;34m\u001b[0m\u001b[0m\n\u001b[0;32m-> 1139\u001b[0;31m             \u001b[0mtype\u001b[0m\u001b[0;34m=\u001b[0m\u001b[0;34m'change'\u001b[0m\u001b[0;34m,\u001b[0m\u001b[0;34m\u001b[0m\u001b[0;34m\u001b[0m\u001b[0m\n\u001b[0m\u001b[1;32m   1140\u001b[0m         ))\n\u001b[1;32m   1141\u001b[0m \u001b[0;34m\u001b[0m\u001b[0m\n",
            "\u001b[0;32m/usr/local/lib/python3.7/dist-packages/ipywidgets/widgets/widget.py\u001b[0m in \u001b[0;36mnotify_change\u001b[0;34m(self, change)\u001b[0m\n\u001b[1;32m    604\u001b[0m                 \u001b[0;31m# Send new state to front-end\u001b[0m\u001b[0;34m\u001b[0m\u001b[0;34m\u001b[0m\u001b[0;34m\u001b[0m\u001b[0m\n\u001b[1;32m    605\u001b[0m                 \u001b[0mself\u001b[0m\u001b[0;34m.\u001b[0m\u001b[0msend_state\u001b[0m\u001b[0;34m(\u001b[0m\u001b[0mkey\u001b[0m\u001b[0;34m=\u001b[0m\u001b[0mname\u001b[0m\u001b[0;34m)\u001b[0m\u001b[0;34m\u001b[0m\u001b[0;34m\u001b[0m\u001b[0m\n\u001b[0;32m--> 606\u001b[0;31m         \u001b[0msuper\u001b[0m\u001b[0;34m(\u001b[0m\u001b[0mWidget\u001b[0m\u001b[0;34m,\u001b[0m \u001b[0mself\u001b[0m\u001b[0;34m)\u001b[0m\u001b[0;34m.\u001b[0m\u001b[0mnotify_change\u001b[0m\u001b[0;34m(\u001b[0m\u001b[0mchange\u001b[0m\u001b[0;34m)\u001b[0m\u001b[0;34m\u001b[0m\u001b[0;34m\u001b[0m\u001b[0m\n\u001b[0m\u001b[1;32m    607\u001b[0m \u001b[0;34m\u001b[0m\u001b[0m\n\u001b[1;32m    608\u001b[0m     \u001b[0;32mdef\u001b[0m \u001b[0m__repr__\u001b[0m\u001b[0;34m(\u001b[0m\u001b[0mself\u001b[0m\u001b[0;34m)\u001b[0m\u001b[0;34m:\u001b[0m\u001b[0;34m\u001b[0m\u001b[0;34m\u001b[0m\u001b[0m\n",
            "\u001b[0;32m/usr/local/lib/python3.7/dist-packages/traitlets/traitlets.py\u001b[0m in \u001b[0;36mnotify_change\u001b[0;34m(self, change)\u001b[0m\n\u001b[1;32m   1174\u001b[0m                 \u001b[0mc\u001b[0m \u001b[0;34m=\u001b[0m \u001b[0mgetattr\u001b[0m\u001b[0;34m(\u001b[0m\u001b[0mself\u001b[0m\u001b[0;34m,\u001b[0m \u001b[0mc\u001b[0m\u001b[0;34m.\u001b[0m\u001b[0mname\u001b[0m\u001b[0;34m)\u001b[0m\u001b[0;34m\u001b[0m\u001b[0;34m\u001b[0m\u001b[0m\n\u001b[1;32m   1175\u001b[0m \u001b[0;34m\u001b[0m\u001b[0m\n\u001b[0;32m-> 1176\u001b[0;31m             \u001b[0mc\u001b[0m\u001b[0;34m(\u001b[0m\u001b[0mchange\u001b[0m\u001b[0;34m)\u001b[0m\u001b[0;34m\u001b[0m\u001b[0;34m\u001b[0m\u001b[0m\n\u001b[0m\u001b[1;32m   1177\u001b[0m \u001b[0;34m\u001b[0m\u001b[0m\n\u001b[1;32m   1178\u001b[0m     \u001b[0;32mdef\u001b[0m \u001b[0m_add_notifiers\u001b[0m\u001b[0;34m(\u001b[0m\u001b[0mself\u001b[0m\u001b[0;34m,\u001b[0m \u001b[0mhandler\u001b[0m\u001b[0;34m,\u001b[0m \u001b[0mname\u001b[0m\u001b[0;34m,\u001b[0m \u001b[0mtype\u001b[0m\u001b[0;34m)\u001b[0m\u001b[0;34m:\u001b[0m\u001b[0;34m\u001b[0m\u001b[0;34m\u001b[0m\u001b[0m\n",
            "\u001b[0;32m<ipython-input-8-2fd18fc8b2e2>\u001b[0m in \u001b[0;36mon_click_classify\u001b[0;34m(change)\u001b[0m\n\u001b[1;32m      4\u001b[0m     \u001b[0mout_pl\u001b[0m\u001b[0;34m.\u001b[0m\u001b[0mclear_output\u001b[0m\u001b[0;34m(\u001b[0m\u001b[0;34m)\u001b[0m\u001b[0;34m\u001b[0m\u001b[0;34m\u001b[0m\u001b[0m\n\u001b[1;32m      5\u001b[0m     \u001b[0;32mwith\u001b[0m \u001b[0mout_pl\u001b[0m\u001b[0;34m:\u001b[0m \u001b[0mdisplay\u001b[0m\u001b[0;34m(\u001b[0m\u001b[0mimg\u001b[0m\u001b[0;34m.\u001b[0m\u001b[0mto_thumb\u001b[0m\u001b[0;34m(\u001b[0m\u001b[0;36m128\u001b[0m\u001b[0;34m,\u001b[0m\u001b[0;36m128\u001b[0m\u001b[0;34m)\u001b[0m\u001b[0;34m)\u001b[0m\u001b[0;34m\u001b[0m\u001b[0;34m\u001b[0m\u001b[0m\n\u001b[0;32m----> 6\u001b[0;31m     \u001b[0mpred\u001b[0m\u001b[0;34m,\u001b[0m\u001b[0mpred_idx\u001b[0m\u001b[0;34m,\u001b[0m\u001b[0mprobs\u001b[0m \u001b[0;34m=\u001b[0m \u001b[0mlearn_inf\u001b[0m\u001b[0;34m.\u001b[0m\u001b[0mpredict\u001b[0m\u001b[0;34m(\u001b[0m\u001b[0mimg\u001b[0m\u001b[0;34m)\u001b[0m\u001b[0;34m\u001b[0m\u001b[0;34m\u001b[0m\u001b[0m\n\u001b[0m\u001b[1;32m      7\u001b[0m     \u001b[0mlbl_pred\u001b[0m\u001b[0;34m.\u001b[0m\u001b[0mvalue\u001b[0m \u001b[0;34m=\u001b[0m \u001b[0;34mf'Prediction: {pred}; Probability: {probs[pred_idx]:.04f}'\u001b[0m\u001b[0;34m\u001b[0m\u001b[0;34m\u001b[0m\u001b[0m\n\u001b[1;32m      8\u001b[0m \u001b[0;34m\u001b[0m\u001b[0m\n",
            "\u001b[0;31mNameError\u001b[0m: name 'learn_inf' is not defined"
          ]
        }
      ]
    },
    {
      "cell_type": "code",
      "metadata": {
        "id": "0vT7EQlny9iH"
      },
      "source": [
        ""
      ],
      "execution_count": null,
      "outputs": []
    }
  ]
}