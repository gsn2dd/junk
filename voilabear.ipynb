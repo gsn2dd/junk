{
  "nbformat": 4,
  "nbformat_minor": 0,
  "metadata": {
    "colab": {
      "name": "voilabear.ipynb",
      "provenance": [],
      "authorship_tag": "ABX9TyNaN8HCPJgLLoIspkT7n/xo",
      "include_colab_link": true
    },
    "kernelspec": {
      "name": "python3",
      "display_name": "Python 3"
    },
    "widgets": {
      "application/vnd.jupyter.widget-state+json": {
        "e8795d0d6caf4cf9a598f5460474a1f8": {
          "model_module": "@jupyter-widgets/controls",
          "model_name": "ButtonModel",
          "state": {
            "_view_name": "ButtonView",
            "style": "IPY_MODEL_f172268595794d5f9a58a7bd0675262a",
            "_dom_classes": [],
            "description": "Classify",
            "_model_name": "ButtonModel",
            "button_style": "",
            "_view_module": "@jupyter-widgets/controls",
            "_model_module_version": "1.5.0",
            "tooltip": "",
            "_view_count": null,
            "disabled": false,
            "_view_module_version": "1.5.0",
            "layout": "IPY_MODEL_73b0edcc2d9243e3a83414269f04e516",
            "_model_module": "@jupyter-widgets/controls",
            "icon": ""
          }
        },
        "f172268595794d5f9a58a7bd0675262a": {
          "model_module": "@jupyter-widgets/controls",
          "model_name": "ButtonStyleModel",
          "state": {
            "_view_name": "StyleView",
            "_model_name": "ButtonStyleModel",
            "_view_module": "@jupyter-widgets/base",
            "_model_module_version": "1.5.0",
            "_view_count": null,
            "button_color": null,
            "font_weight": "",
            "_view_module_version": "1.2.0",
            "_model_module": "@jupyter-widgets/controls"
          }
        },
        "73b0edcc2d9243e3a83414269f04e516": {
          "model_module": "@jupyter-widgets/base",
          "model_name": "LayoutModel",
          "state": {
            "_view_name": "LayoutView",
            "grid_template_rows": null,
            "right": null,
            "justify_content": null,
            "_view_module": "@jupyter-widgets/base",
            "overflow": null,
            "_model_module_version": "1.2.0",
            "_view_count": null,
            "flex_flow": null,
            "width": null,
            "min_width": null,
            "border": null,
            "align_items": null,
            "bottom": null,
            "_model_module": "@jupyter-widgets/base",
            "top": null,
            "grid_column": null,
            "overflow_y": null,
            "overflow_x": null,
            "grid_auto_flow": null,
            "grid_area": null,
            "grid_template_columns": null,
            "flex": null,
            "_model_name": "LayoutModel",
            "justify_items": null,
            "grid_row": null,
            "max_height": null,
            "align_content": null,
            "visibility": null,
            "align_self": null,
            "height": null,
            "min_height": null,
            "padding": null,
            "grid_auto_rows": null,
            "grid_gap": null,
            "max_width": null,
            "order": null,
            "_view_module_version": "1.2.0",
            "grid_template_areas": null,
            "object_position": null,
            "object_fit": null,
            "grid_auto_columns": null,
            "margin": null,
            "display": null,
            "left": null
          }
        },
        "068b14c6a93e49b4ac3dd6bb667702cf": {
          "model_module": "@jupyter-widgets/controls",
          "model_name": "VBoxModel",
          "state": {
            "_view_name": "VBoxView",
            "_dom_classes": [],
            "_model_name": "VBoxModel",
            "_view_module": "@jupyter-widgets/controls",
            "_model_module_version": "1.5.0",
            "_view_count": null,
            "_view_module_version": "1.5.0",
            "box_style": "",
            "layout": "IPY_MODEL_c81e37e87a9c47eeb0d79c6cd2ceb337",
            "_model_module": "@jupyter-widgets/controls",
            "children": [
              "IPY_MODEL_0aeab39fd6f042d9b3788125c98de018",
              "IPY_MODEL_10369c777cf145d386322974624d80f2",
              "IPY_MODEL_e8795d0d6caf4cf9a598f5460474a1f8",
              "IPY_MODEL_db94c1a92b294405baeb71a787bb8818",
              "IPY_MODEL_dd74b3b90f434d9a9659298432790c2c"
            ]
          }
        },
        "c81e37e87a9c47eeb0d79c6cd2ceb337": {
          "model_module": "@jupyter-widgets/base",
          "model_name": "LayoutModel",
          "state": {
            "_view_name": "LayoutView",
            "grid_template_rows": null,
            "right": null,
            "justify_content": null,
            "_view_module": "@jupyter-widgets/base",
            "overflow": null,
            "_model_module_version": "1.2.0",
            "_view_count": null,
            "flex_flow": null,
            "width": null,
            "min_width": null,
            "border": null,
            "align_items": null,
            "bottom": null,
            "_model_module": "@jupyter-widgets/base",
            "top": null,
            "grid_column": null,
            "overflow_y": null,
            "overflow_x": null,
            "grid_auto_flow": null,
            "grid_area": null,
            "grid_template_columns": null,
            "flex": null,
            "_model_name": "LayoutModel",
            "justify_items": null,
            "grid_row": null,
            "max_height": null,
            "align_content": null,
            "visibility": null,
            "align_self": null,
            "height": null,
            "min_height": null,
            "padding": null,
            "grid_auto_rows": null,
            "grid_gap": null,
            "max_width": null,
            "order": null,
            "_view_module_version": "1.2.0",
            "grid_template_areas": null,
            "object_position": null,
            "object_fit": null,
            "grid_auto_columns": null,
            "margin": null,
            "display": null,
            "left": null
          }
        },
        "0aeab39fd6f042d9b3788125c98de018": {
          "model_module": "@jupyter-widgets/controls",
          "model_name": "LabelModel",
          "state": {
            "_view_name": "LabelView",
            "style": "IPY_MODEL_699fc722f83c47e5973d93b8a8f8ad40",
            "_dom_classes": [],
            "description": "",
            "_model_name": "LabelModel",
            "placeholder": "​",
            "_view_module": "@jupyter-widgets/controls",
            "_model_module_version": "1.5.0",
            "value": "Select your bear!",
            "_view_count": null,
            "_view_module_version": "1.5.0",
            "description_tooltip": null,
            "_model_module": "@jupyter-widgets/controls",
            "layout": "IPY_MODEL_0c7f71c832654d4c87c4b764bd723afd"
          }
        },
        "10369c777cf145d386322974624d80f2": {
          "model_module": "@jupyter-widgets/controls",
          "model_name": "FileUploadModel",
          "state": {
            "_view_name": "FileUploadView",
            "_counter": 1,
            "style": "IPY_MODEL_fe6f84df60924a87b90e12d7c64a451c",
            "_dom_classes": [],
            "description": "Upload",
            "multiple": false,
            "_model_name": "FileUploadModel",
            "data": [
              null
            ],
            "button_style": "",
            "_view_module": "@jupyter-widgets/controls",
            "_model_module_version": "1.5.0",
            "accept": "",
            "_view_count": null,
            "disabled": false,
            "_view_module_version": "1.5.0",
            "error": "",
            "description_tooltip": null,
            "metadata": [
              {
                "name": "Untitled.png",
                "type": "image/png",
                "size": 350910,
                "lastModified": 1611499522773
              }
            ],
            "_model_module": "@jupyter-widgets/controls",
            "layout": "IPY_MODEL_3fc623e59c99490aab431cc560614de9",
            "icon": "upload"
          }
        },
        "db94c1a92b294405baeb71a787bb8818": {
          "model_module": "@jupyter-widgets/output",
          "model_name": "OutputModel",
          "state": {
            "_view_name": "OutputView",
            "msg_id": "",
            "_dom_classes": [],
            "_model_name": "OutputModel",
            "outputs": [
              {
                "output_type": "display_data",
                "metadata": {
                  "tags": []
                },
                "image/png": "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\n",
                "text/plain": "<PIL.Image.Image image mode=RGB size=128x82 at 0x7F16E9147828>"
              }
            ],
            "_view_module": "@jupyter-widgets/output",
            "_model_module_version": "1.0.0",
            "_view_count": null,
            "_view_module_version": "1.0.0",
            "layout": "IPY_MODEL_b33498b1d24d4f1eae3e651e9cdb4301",
            "_model_module": "@jupyter-widgets/output"
          }
        },
        "dd74b3b90f434d9a9659298432790c2c": {
          "model_module": "@jupyter-widgets/controls",
          "model_name": "LabelModel",
          "state": {
            "_view_name": "LabelView",
            "style": "IPY_MODEL_70945e5cd7574822a11480243f3cbde6",
            "_dom_classes": [],
            "description": "",
            "_model_name": "LabelModel",
            "placeholder": "​",
            "_view_module": "@jupyter-widgets/controls",
            "_model_module_version": "1.5.0",
            "value": "Prediction: black; Probability: 0.9988",
            "_view_count": null,
            "_view_module_version": "1.5.0",
            "description_tooltip": null,
            "_model_module": "@jupyter-widgets/controls",
            "layout": "IPY_MODEL_07b08a30469d4661aed1a870736fde10"
          }
        },
        "699fc722f83c47e5973d93b8a8f8ad40": {
          "model_module": "@jupyter-widgets/controls",
          "model_name": "DescriptionStyleModel",
          "state": {
            "_view_name": "StyleView",
            "_model_name": "DescriptionStyleModel",
            "description_width": "",
            "_view_module": "@jupyter-widgets/base",
            "_model_module_version": "1.5.0",
            "_view_count": null,
            "_view_module_version": "1.2.0",
            "_model_module": "@jupyter-widgets/controls"
          }
        },
        "0c7f71c832654d4c87c4b764bd723afd": {
          "model_module": "@jupyter-widgets/base",
          "model_name": "LayoutModel",
          "state": {
            "_view_name": "LayoutView",
            "grid_template_rows": null,
            "right": null,
            "justify_content": null,
            "_view_module": "@jupyter-widgets/base",
            "overflow": null,
            "_model_module_version": "1.2.0",
            "_view_count": null,
            "flex_flow": null,
            "width": null,
            "min_width": null,
            "border": null,
            "align_items": null,
            "bottom": null,
            "_model_module": "@jupyter-widgets/base",
            "top": null,
            "grid_column": null,
            "overflow_y": null,
            "overflow_x": null,
            "grid_auto_flow": null,
            "grid_area": null,
            "grid_template_columns": null,
            "flex": null,
            "_model_name": "LayoutModel",
            "justify_items": null,
            "grid_row": null,
            "max_height": null,
            "align_content": null,
            "visibility": null,
            "align_self": null,
            "height": null,
            "min_height": null,
            "padding": null,
            "grid_auto_rows": null,
            "grid_gap": null,
            "max_width": null,
            "order": null,
            "_view_module_version": "1.2.0",
            "grid_template_areas": null,
            "object_position": null,
            "object_fit": null,
            "grid_auto_columns": null,
            "margin": null,
            "display": null,
            "left": null
          }
        },
        "fe6f84df60924a87b90e12d7c64a451c": {
          "model_module": "@jupyter-widgets/controls",
          "model_name": "ButtonStyleModel",
          "state": {
            "_view_name": "StyleView",
            "_model_name": "ButtonStyleModel",
            "_view_module": "@jupyter-widgets/base",
            "_model_module_version": "1.5.0",
            "_view_count": null,
            "button_color": null,
            "font_weight": "",
            "_view_module_version": "1.2.0",
            "_model_module": "@jupyter-widgets/controls"
          }
        },
        "3fc623e59c99490aab431cc560614de9": {
          "model_module": "@jupyter-widgets/base",
          "model_name": "LayoutModel",
          "state": {
            "_view_name": "LayoutView",
            "grid_template_rows": null,
            "right": null,
            "justify_content": null,
            "_view_module": "@jupyter-widgets/base",
            "overflow": null,
            "_model_module_version": "1.2.0",
            "_view_count": null,
            "flex_flow": null,
            "width": null,
            "min_width": null,
            "border": null,
            "align_items": null,
            "bottom": null,
            "_model_module": "@jupyter-widgets/base",
            "top": null,
            "grid_column": null,
            "overflow_y": null,
            "overflow_x": null,
            "grid_auto_flow": null,
            "grid_area": null,
            "grid_template_columns": null,
            "flex": null,
            "_model_name": "LayoutModel",
            "justify_items": null,
            "grid_row": null,
            "max_height": null,
            "align_content": null,
            "visibility": null,
            "align_self": null,
            "height": null,
            "min_height": null,
            "padding": null,
            "grid_auto_rows": null,
            "grid_gap": null,
            "max_width": null,
            "order": null,
            "_view_module_version": "1.2.0",
            "grid_template_areas": null,
            "object_position": null,
            "object_fit": null,
            "grid_auto_columns": null,
            "margin": null,
            "display": null,
            "left": null
          }
        },
        "70945e5cd7574822a11480243f3cbde6": {
          "model_module": "@jupyter-widgets/controls",
          "model_name": "DescriptionStyleModel",
          "state": {
            "_view_name": "StyleView",
            "_model_name": "DescriptionStyleModel",
            "description_width": "",
            "_view_module": "@jupyter-widgets/base",
            "_model_module_version": "1.5.0",
            "_view_count": null,
            "_view_module_version": "1.2.0",
            "_model_module": "@jupyter-widgets/controls"
          }
        },
        "07b08a30469d4661aed1a870736fde10": {
          "model_module": "@jupyter-widgets/base",
          "model_name": "LayoutModel",
          "state": {
            "_view_name": "LayoutView",
            "grid_template_rows": null,
            "right": null,
            "justify_content": null,
            "_view_module": "@jupyter-widgets/base",
            "overflow": null,
            "_model_module_version": "1.2.0",
            "_view_count": null,
            "flex_flow": null,
            "width": null,
            "min_width": null,
            "border": null,
            "align_items": null,
            "bottom": null,
            "_model_module": "@jupyter-widgets/base",
            "top": null,
            "grid_column": null,
            "overflow_y": null,
            "overflow_x": null,
            "grid_auto_flow": null,
            "grid_area": null,
            "grid_template_columns": null,
            "flex": null,
            "_model_name": "LayoutModel",
            "justify_items": null,
            "grid_row": null,
            "max_height": null,
            "align_content": null,
            "visibility": null,
            "align_self": null,
            "height": null,
            "min_height": null,
            "padding": null,
            "grid_auto_rows": null,
            "grid_gap": null,
            "max_width": null,
            "order": null,
            "_view_module_version": "1.2.0",
            "grid_template_areas": null,
            "object_position": null,
            "object_fit": null,
            "grid_auto_columns": null,
            "margin": null,
            "display": null,
            "left": null
          }
        },
        "b33498b1d24d4f1eae3e651e9cdb4301": {
          "model_module": "@jupyter-widgets/base",
          "model_name": "LayoutModel",
          "state": {
            "_view_name": "LayoutView",
            "grid_template_rows": null,
            "right": null,
            "justify_content": null,
            "_view_module": "@jupyter-widgets/base",
            "overflow": null,
            "_model_module_version": "1.2.0",
            "_view_count": null,
            "flex_flow": null,
            "width": null,
            "min_width": null,
            "border": null,
            "align_items": null,
            "bottom": null,
            "_model_module": "@jupyter-widgets/base",
            "top": null,
            "grid_column": null,
            "overflow_y": null,
            "overflow_x": null,
            "grid_auto_flow": null,
            "grid_area": null,
            "grid_template_columns": null,
            "flex": null,
            "_model_name": "LayoutModel",
            "justify_items": null,
            "grid_row": null,
            "max_height": null,
            "align_content": null,
            "visibility": null,
            "align_self": null,
            "height": null,
            "min_height": null,
            "padding": null,
            "grid_auto_rows": null,
            "grid_gap": null,
            "max_width": null,
            "order": null,
            "_view_module_version": "1.2.0",
            "grid_template_areas": null,
            "object_position": null,
            "object_fit": null,
            "grid_auto_columns": null,
            "margin": null,
            "display": null,
            "left": null
          }
        }
      }
    }
  },
  "cells": [
    {
      "cell_type": "markdown",
      "metadata": {
        "id": "view-in-github",
        "colab_type": "text"
      },
      "source": [
        "<a href=\"https://colab.research.google.com/github/gsn2dd/junk/blob/main/voilabear.ipynb\" target=\"_parent\"><img src=\"https://colab.research.google.com/assets/colab-badge.svg\" alt=\"Open In Colab\"/></a>"
      ]
    },
    {
      "cell_type": "code",
      "metadata": {
        "colab": {
          "base_uri": "https://localhost:8080/"
        },
        "id": "aEQz8gR74Q1Z",
        "outputId": "cc07ac44-18ed-4768-d66a-3b40c32367ef"
      },
      "source": [
        "!pip install -Uqq fastbook\r\n",
        "import fastbook\r\n",
        "\r\n",
        "from fastbook import *\r\n",
        "from fastai.vision.widgets import *\r\n",
        "\r\n",
        "from google.colab import drive\r\n",
        "drive.mount('/content/drive', force_remount=False )\r\n",
        "path=Path('/content/drive/My Drive')\r\n"
      ],
      "execution_count": 96,
      "outputs": [
        {
          "output_type": "stream",
          "text": [
            "Drive already mounted at /content/drive; to attempt to forcibly remount, call drive.mount(\"/content/drive\", force_remount=True).\n"
          ],
          "name": "stdout"
        }
      ]
    },
    {
      "cell_type": "code",
      "metadata": {
        "colab": {
          "base_uri": "https://localhost:8080/"
        },
        "id": "5uZKAK9cq5Yq",
        "outputId": "caa9569d-cc41-4d65-f816-2fda3c444850"
      },
      "source": [
        "# load model and show vocab\r\n",
        "learn_inf=load_learner(path/'colabimg/export.pkl')\r\n",
        "learn_inf.dls.vocab"
      ],
      "execution_count": 99,
      "outputs": [
        {
          "output_type": "execute_result",
          "data": {
            "text/plain": [
              "['black', 'grizzly', 'teddy']"
            ]
          },
          "metadata": {
            "tags": []
          },
          "execution_count": 99
        }
      ]
    },
    {
      "cell_type": "code",
      "metadata": {
        "id": "BLIcBVH7dzpg",
        "colab": {
          "base_uri": "https://localhost:8080/",
          "height": 49,
          "referenced_widgets": [
            "e8795d0d6caf4cf9a598f5460474a1f8",
            "f172268595794d5f9a58a7bd0675262a",
            "73b0edcc2d9243e3a83414269f04e516"
          ]
        },
        "outputId": "07afb769-735e-40b7-bf1b-8dd8f34bc8b0"
      },
      "source": [
        "#hide_output\n",
        "btn_run = widgets.Button(description='Classify')\n",
        "btn_run"
      ],
      "execution_count": 100,
      "outputs": [
        {
          "output_type": "display_data",
          "data": {
            "application/vnd.jupyter.widget-view+json": {
              "model_id": "e8795d0d6caf4cf9a598f5460474a1f8",
              "version_minor": 0,
              "version_major": 2
            },
            "text/plain": [
              "Button(description='Classify', style=ButtonStyle())"
            ]
          },
          "metadata": {
            "tags": []
          }
        }
      ]
    },
    {
      "cell_type": "code",
      "metadata": {
        "id": "BYm4Paf-1zAk"
      },
      "source": [
        "def on_click_classify(change):\n",
        "    img = PILImage.create(btn_upload.data[-1])\n",
        "    out_pl.clear_output()\n",
        "    with out_pl: display(img.to_thumb(128,128))\n",
        "    pred,pred_idx,probs = learn_inf.predict(img)\n",
        "    lbl_pred.value = f'Prediction: {pred}; Probability: {probs[pred_idx]:.04f}'\n",
        "\n",
        "btn_run.on_click(on_click_classify)"
      ],
      "execution_count": 101,
      "outputs": []
    },
    {
      "cell_type": "code",
      "metadata": {
        "id": "030tXhUDdzph"
      },
      "source": [
        "#hide\n",
        "#Putting back btn_upload to a widget for next cell\n",
        "btn_upload = widgets.FileUpload()"
      ],
      "execution_count": 93,
      "outputs": []
    },
    {
      "cell_type": "code",
      "metadata": {
        "id": "UioLWE3tdzph",
        "colab": {
          "base_uri": "https://localhost:8080/",
          "height": 227,
          "referenced_widgets": [
            "068b14c6a93e49b4ac3dd6bb667702cf",
            "c81e37e87a9c47eeb0d79c6cd2ceb337",
            "0aeab39fd6f042d9b3788125c98de018",
            "10369c777cf145d386322974624d80f2",
            "e8795d0d6caf4cf9a598f5460474a1f8",
            "db94c1a92b294405baeb71a787bb8818",
            "dd74b3b90f434d9a9659298432790c2c",
            "699fc722f83c47e5973d93b8a8f8ad40",
            "0c7f71c832654d4c87c4b764bd723afd",
            "fe6f84df60924a87b90e12d7c64a451c",
            "3fc623e59c99490aab431cc560614de9",
            "f172268595794d5f9a58a7bd0675262a",
            "73b0edcc2d9243e3a83414269f04e516",
            "70945e5cd7574822a11480243f3cbde6",
            "07b08a30469d4661aed1a870736fde10",
            "b33498b1d24d4f1eae3e651e9cdb4301"
          ]
        },
        "outputId": "8fc0d81c-3d5c-4e97-d4cc-9d2a1e52c55b"
      },
      "source": [
        "#hide_output\n",
        "VBox([widgets.Label('Select your bear!'), \n",
        "      btn_upload, btn_run, out_pl, lbl_pred])"
      ],
      "execution_count": 102,
      "outputs": [
        {
          "output_type": "display_data",
          "data": {
            "application/vnd.jupyter.widget-view+json": {
              "model_id": "068b14c6a93e49b4ac3dd6bb667702cf",
              "version_minor": 0,
              "version_major": 2
            },
            "text/plain": [
              "VBox(children=(Label(value='Select your bear!'), FileUpload(value={}, description='Upload'), Button(descriptio…"
            ]
          },
          "metadata": {
            "tags": []
          }
        },
        {
          "output_type": "display_data",
          "data": {
            "text/html": [
              ""
            ],
            "text/plain": [
              "<IPython.core.display.HTML object>"
            ]
          },
          "metadata": {
            "tags": []
          }
        }
      ]
    }
  ]
}