{
  "nbformat": 4,
  "nbformat_minor": 0,
  "metadata": {
    "colab": {
      "name": "voilabear.ipynb",
      "provenance": [],
      "authorship_tag": "ABX9TyO/9jd7c0kII1kavlHV1+Et",
      "include_colab_link": true
    },
    "kernelspec": {
      "name": "python3",
      "display_name": "Python 3"
    },
    "widgets": {
      "application/vnd.jupyter.widget-state+json": {
        "72a765e2904443b9a331f773a32495c6": {
          "model_module": "@jupyter-widgets/controls",
          "model_name": "VBoxModel",
          "state": {
            "_view_name": "VBoxView",
            "_dom_classes": [],
            "_model_name": "VBoxModel",
            "_view_module": "@jupyter-widgets/controls",
            "_model_module_version": "1.5.0",
            "_view_count": null,
            "_view_module_version": "1.5.0",
            "box_style": "",
            "layout": "IPY_MODEL_a53499baf282432f836be7fbfb455e6c",
            "_model_module": "@jupyter-widgets/controls",
            "children": [
              "IPY_MODEL_be273d9a78ca4ff99ce972d8c08486c8",
              "IPY_MODEL_58017067736843f1a9537d14330a7555",
              "IPY_MODEL_52eb8dd831c24b5a87a6eb84922de6f8",
              "IPY_MODEL_3cede3b3c5314a8597842ac9a0be36d1",
              "IPY_MODEL_633a6e45fd2647348368b2c2c2d96768"
            ]
          }
        },
        "a53499baf282432f836be7fbfb455e6c": {
          "model_module": "@jupyter-widgets/base",
          "model_name": "LayoutModel",
          "state": {
            "_view_name": "LayoutView",
            "grid_template_rows": null,
            "right": null,
            "justify_content": null,
            "_view_module": "@jupyter-widgets/base",
            "overflow": null,
            "_model_module_version": "1.2.0",
            "_view_count": null,
            "flex_flow": null,
            "width": null,
            "min_width": null,
            "border": null,
            "align_items": null,
            "bottom": null,
            "_model_module": "@jupyter-widgets/base",
            "top": null,
            "grid_column": null,
            "overflow_y": null,
            "overflow_x": null,
            "grid_auto_flow": null,
            "grid_area": null,
            "grid_template_columns": null,
            "flex": null,
            "_model_name": "LayoutModel",
            "justify_items": null,
            "grid_row": null,
            "max_height": null,
            "align_content": null,
            "visibility": null,
            "align_self": null,
            "height": null,
            "min_height": null,
            "padding": null,
            "grid_auto_rows": null,
            "grid_gap": null,
            "max_width": null,
            "order": null,
            "_view_module_version": "1.2.0",
            "grid_template_areas": null,
            "object_position": null,
            "object_fit": null,
            "grid_auto_columns": null,
            "margin": null,
            "display": null,
            "left": null
          }
        },
        "be273d9a78ca4ff99ce972d8c08486c8": {
          "model_module": "@jupyter-widgets/controls",
          "model_name": "LabelModel",
          "state": {
            "_view_name": "LabelView",
            "style": "IPY_MODEL_a0feea2f4bbb4a8497e3e0e341ddf2df",
            "_dom_classes": [],
            "description": "",
            "_model_name": "LabelModel",
            "placeholder": "​",
            "_view_module": "@jupyter-widgets/controls",
            "_model_module_version": "1.5.0",
            "value": "Select a bear image to classify - uploading will delay results; use small image!",
            "_view_count": null,
            "_view_module_version": "1.5.0",
            "description_tooltip": null,
            "_model_module": "@jupyter-widgets/controls",
            "layout": "IPY_MODEL_90938a1244434ee6989b2bbc054c15fd"
          }
        },
        "58017067736843f1a9537d14330a7555": {
          "model_module": "@jupyter-widgets/controls",
          "model_name": "FileUploadModel",
          "state": {
            "_view_name": "FileUploadView",
            "_counter": 1,
            "style": "IPY_MODEL_68e282bfb5974131a617d906405b54a4",
            "_dom_classes": [],
            "description": "Upload",
            "multiple": false,
            "_model_name": "FileUploadModel",
            "data": [
              null
            ],
            "button_style": "",
            "_view_module": "@jupyter-widgets/controls",
            "_model_module_version": "1.5.0",
            "accept": "",
            "_view_count": null,
            "disabled": false,
            "_view_module_version": "1.5.0",
            "error": "",
            "description_tooltip": null,
            "metadata": [
              {
                "name": "att_00009.png",
                "type": "image/png",
                "size": 38379,
                "lastModified": 1613225828171
              }
            ],
            "_model_module": "@jupyter-widgets/controls",
            "layout": "IPY_MODEL_655a9d1b39f7413b96f43eeb44e46d96",
            "icon": "upload"
          }
        },
        "52eb8dd831c24b5a87a6eb84922de6f8": {
          "model_module": "@jupyter-widgets/controls",
          "model_name": "ButtonModel",
          "state": {
            "_view_name": "ButtonView",
            "style": "IPY_MODEL_13ff6bf4a07347f983a661f4be5c95c0",
            "_dom_classes": [],
            "description": "Classify",
            "_model_name": "ButtonModel",
            "button_style": "",
            "_view_module": "@jupyter-widgets/controls",
            "_model_module_version": "1.5.0",
            "tooltip": "",
            "_view_count": null,
            "disabled": false,
            "_view_module_version": "1.5.0",
            "layout": "IPY_MODEL_79c7a6a74a2249aeb2156243c6929594",
            "_model_module": "@jupyter-widgets/controls",
            "icon": ""
          }
        },
        "3cede3b3c5314a8597842ac9a0be36d1": {
          "model_module": "@jupyter-widgets/output",
          "model_name": "OutputModel",
          "state": {
            "_view_name": "OutputView",
            "msg_id": "",
            "_dom_classes": [],
            "_model_name": "OutputModel",
            "outputs": [
              {
                "output_type": "display_data",
                "metadata": {
                  "tags": []
                },
                "image/png": "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\n",
                "text/plain": "<PIL.Image.Image image mode=RGB size=109x128 at 0x7FD1390F7390>"
              }
            ],
            "_view_module": "@jupyter-widgets/output",
            "_model_module_version": "1.0.0",
            "_view_count": null,
            "_view_module_version": "1.0.0",
            "layout": "IPY_MODEL_cf4314fd1b18460696a2eee53c4ebee9",
            "_model_module": "@jupyter-widgets/output"
          }
        },
        "633a6e45fd2647348368b2c2c2d96768": {
          "model_module": "@jupyter-widgets/controls",
          "model_name": "LabelModel",
          "state": {
            "_view_name": "LabelView",
            "style": "IPY_MODEL_124e330edf684834ba72a2e2cb37cd2e",
            "_dom_classes": [],
            "description": "",
            "_model_name": "LabelModel",
            "placeholder": "​",
            "_view_module": "@jupyter-widgets/controls",
            "_model_module_version": "1.5.0",
            "value": "Prediction: grizzly; Probability: 1.0000",
            "_view_count": null,
            "_view_module_version": "1.5.0",
            "description_tooltip": null,
            "_model_module": "@jupyter-widgets/controls",
            "layout": "IPY_MODEL_eb65f0e87e7f4293a6c36fb4012cfe33"
          }
        },
        "a0feea2f4bbb4a8497e3e0e341ddf2df": {
          "model_module": "@jupyter-widgets/controls",
          "model_name": "DescriptionStyleModel",
          "state": {
            "_view_name": "StyleView",
            "_model_name": "DescriptionStyleModel",
            "description_width": "",
            "_view_module": "@jupyter-widgets/base",
            "_model_module_version": "1.5.0",
            "_view_count": null,
            "_view_module_version": "1.2.0",
            "_model_module": "@jupyter-widgets/controls"
          }
        },
        "90938a1244434ee6989b2bbc054c15fd": {
          "model_module": "@jupyter-widgets/base",
          "model_name": "LayoutModel",
          "state": {
            "_view_name": "LayoutView",
            "grid_template_rows": null,
            "right": null,
            "justify_content": null,
            "_view_module": "@jupyter-widgets/base",
            "overflow": null,
            "_model_module_version": "1.2.0",
            "_view_count": null,
            "flex_flow": null,
            "width": null,
            "min_width": null,
            "border": null,
            "align_items": null,
            "bottom": null,
            "_model_module": "@jupyter-widgets/base",
            "top": null,
            "grid_column": null,
            "overflow_y": null,
            "overflow_x": null,
            "grid_auto_flow": null,
            "grid_area": null,
            "grid_template_columns": null,
            "flex": null,
            "_model_name": "LayoutModel",
            "justify_items": null,
            "grid_row": null,
            "max_height": null,
            "align_content": null,
            "visibility": null,
            "align_self": null,
            "height": null,
            "min_height": null,
            "padding": null,
            "grid_auto_rows": null,
            "grid_gap": null,
            "max_width": null,
            "order": null,
            "_view_module_version": "1.2.0",
            "grid_template_areas": null,
            "object_position": null,
            "object_fit": null,
            "grid_auto_columns": null,
            "margin": null,
            "display": null,
            "left": null
          }
        },
        "68e282bfb5974131a617d906405b54a4": {
          "model_module": "@jupyter-widgets/controls",
          "model_name": "ButtonStyleModel",
          "state": {
            "_view_name": "StyleView",
            "_model_name": "ButtonStyleModel",
            "_view_module": "@jupyter-widgets/base",
            "_model_module_version": "1.5.0",
            "_view_count": null,
            "button_color": null,
            "font_weight": "",
            "_view_module_version": "1.2.0",
            "_model_module": "@jupyter-widgets/controls"
          }
        },
        "655a9d1b39f7413b96f43eeb44e46d96": {
          "model_module": "@jupyter-widgets/base",
          "model_name": "LayoutModel",
          "state": {
            "_view_name": "LayoutView",
            "grid_template_rows": null,
            "right": null,
            "justify_content": null,
            "_view_module": "@jupyter-widgets/base",
            "overflow": null,
            "_model_module_version": "1.2.0",
            "_view_count": null,
            "flex_flow": null,
            "width": null,
            "min_width": null,
            "border": null,
            "align_items": null,
            "bottom": null,
            "_model_module": "@jupyter-widgets/base",
            "top": null,
            "grid_column": null,
            "overflow_y": null,
            "overflow_x": null,
            "grid_auto_flow": null,
            "grid_area": null,
            "grid_template_columns": null,
            "flex": null,
            "_model_name": "LayoutModel",
            "justify_items": null,
            "grid_row": null,
            "max_height": null,
            "align_content": null,
            "visibility": null,
            "align_self": null,
            "height": null,
            "min_height": null,
            "padding": null,
            "grid_auto_rows": null,
            "grid_gap": null,
            "max_width": null,
            "order": null,
            "_view_module_version": "1.2.0",
            "grid_template_areas": null,
            "object_position": null,
            "object_fit": null,
            "grid_auto_columns": null,
            "margin": null,
            "display": null,
            "left": null
          }
        },
        "13ff6bf4a07347f983a661f4be5c95c0": {
          "model_module": "@jupyter-widgets/controls",
          "model_name": "ButtonStyleModel",
          "state": {
            "_view_name": "StyleView",
            "_model_name": "ButtonStyleModel",
            "_view_module": "@jupyter-widgets/base",
            "_model_module_version": "1.5.0",
            "_view_count": null,
            "button_color": null,
            "font_weight": "",
            "_view_module_version": "1.2.0",
            "_model_module": "@jupyter-widgets/controls"
          }
        },
        "79c7a6a74a2249aeb2156243c6929594": {
          "model_module": "@jupyter-widgets/base",
          "model_name": "LayoutModel",
          "state": {
            "_view_name": "LayoutView",
            "grid_template_rows": null,
            "right": null,
            "justify_content": null,
            "_view_module": "@jupyter-widgets/base",
            "overflow": null,
            "_model_module_version": "1.2.0",
            "_view_count": null,
            "flex_flow": null,
            "width": null,
            "min_width": null,
            "border": null,
            "align_items": null,
            "bottom": null,
            "_model_module": "@jupyter-widgets/base",
            "top": null,
            "grid_column": null,
            "overflow_y": null,
            "overflow_x": null,
            "grid_auto_flow": null,
            "grid_area": null,
            "grid_template_columns": null,
            "flex": null,
            "_model_name": "LayoutModel",
            "justify_items": null,
            "grid_row": null,
            "max_height": null,
            "align_content": null,
            "visibility": null,
            "align_self": null,
            "height": null,
            "min_height": null,
            "padding": null,
            "grid_auto_rows": null,
            "grid_gap": null,
            "max_width": null,
            "order": null,
            "_view_module_version": "1.2.0",
            "grid_template_areas": null,
            "object_position": null,
            "object_fit": null,
            "grid_auto_columns": null,
            "margin": null,
            "display": null,
            "left": null
          }
        },
        "124e330edf684834ba72a2e2cb37cd2e": {
          "model_module": "@jupyter-widgets/controls",
          "model_name": "DescriptionStyleModel",
          "state": {
            "_view_name": "StyleView",
            "_model_name": "DescriptionStyleModel",
            "description_width": "",
            "_view_module": "@jupyter-widgets/base",
            "_model_module_version": "1.5.0",
            "_view_count": null,
            "_view_module_version": "1.2.0",
            "_model_module": "@jupyter-widgets/controls"
          }
        },
        "eb65f0e87e7f4293a6c36fb4012cfe33": {
          "model_module": "@jupyter-widgets/base",
          "model_name": "LayoutModel",
          "state": {
            "_view_name": "LayoutView",
            "grid_template_rows": null,
            "right": null,
            "justify_content": null,
            "_view_module": "@jupyter-widgets/base",
            "overflow": null,
            "_model_module_version": "1.2.0",
            "_view_count": null,
            "flex_flow": null,
            "width": null,
            "min_width": null,
            "border": null,
            "align_items": null,
            "bottom": null,
            "_model_module": "@jupyter-widgets/base",
            "top": null,
            "grid_column": null,
            "overflow_y": null,
            "overflow_x": null,
            "grid_auto_flow": null,
            "grid_area": null,
            "grid_template_columns": null,
            "flex": null,
            "_model_name": "LayoutModel",
            "justify_items": null,
            "grid_row": null,
            "max_height": null,
            "align_content": null,
            "visibility": null,
            "align_self": null,
            "height": null,
            "min_height": null,
            "padding": null,
            "grid_auto_rows": null,
            "grid_gap": null,
            "max_width": null,
            "order": null,
            "_view_module_version": "1.2.0",
            "grid_template_areas": null,
            "object_position": null,
            "object_fit": null,
            "grid_auto_columns": null,
            "margin": null,
            "display": null,
            "left": null
          }
        },
        "cf4314fd1b18460696a2eee53c4ebee9": {
          "model_module": "@jupyter-widgets/base",
          "model_name": "LayoutModel",
          "state": {
            "_view_name": "LayoutView",
            "grid_template_rows": null,
            "right": null,
            "justify_content": null,
            "_view_module": "@jupyter-widgets/base",
            "overflow": null,
            "_model_module_version": "1.2.0",
            "_view_count": null,
            "flex_flow": null,
            "width": null,
            "min_width": null,
            "border": null,
            "align_items": null,
            "bottom": null,
            "_model_module": "@jupyter-widgets/base",
            "top": null,
            "grid_column": null,
            "overflow_y": null,
            "overflow_x": null,
            "grid_auto_flow": null,
            "grid_area": null,
            "grid_template_columns": null,
            "flex": null,
            "_model_name": "LayoutModel",
            "justify_items": null,
            "grid_row": null,
            "max_height": null,
            "align_content": null,
            "visibility": null,
            "align_self": null,
            "height": null,
            "min_height": null,
            "padding": null,
            "grid_auto_rows": null,
            "grid_gap": null,
            "max_width": null,
            "order": null,
            "_view_module_version": "1.2.0",
            "grid_template_areas": null,
            "object_position": null,
            "object_fit": null,
            "grid_auto_columns": null,
            "margin": null,
            "display": null,
            "left": null
          }
        }
      }
    }
  },
  "cells": [
    {
      "cell_type": "markdown",
      "metadata": {
        "id": "view-in-github",
        "colab_type": "text"
      },
      "source": [
        "<a href=\"https://colab.research.google.com/github/gsn2dd/junk/blob/main/voilabear.ipynb\" target=\"_parent\"><img src=\"https://colab.research.google.com/assets/colab-badge.svg\" alt=\"Open In Colab\"/></a>"
      ]
    },
    {
      "cell_type": "code",
      "metadata": {
        "colab": {
          "base_uri": "https://localhost:8080/"
        },
        "id": "aEQz8gR74Q1Z",
        "outputId": "e84c0733-a560-4b58-c565-0c18d01eae12"
      },
      "source": [
        "# bear classifier - evaluates if a bear is a teddy or a black or grizzly bear\r\n",
        "!pip install -Uqq fastbook\r\n",
        "import fastbook\r\n",
        "\r\n",
        "from fastbook import *\r\n",
        "from fastai.vision.widgets import *\r\n",
        "\r\n",
        "from google.colab import drive\r\n",
        "drive.mount('/content/drive', force_remount=False )\r\n",
        "path=Path('/content/drive/My Drive')\r\n"
      ],
      "execution_count": null,
      "outputs": [
        {
          "output_type": "stream",
          "text": [
            "Drive already mounted at /content/drive; to attempt to forcibly remount, call drive.mount(\"/content/drive\", force_remount=True).\n"
          ],
          "name": "stdout"
        }
      ]
    },
    {
      "cell_type": "code",
      "metadata": {
        "colab": {
          "base_uri": "https://localhost:8080/"
        },
        "id": "5uZKAK9cq5Yq",
        "outputId": "d75a7fd5-9182-4553-d32a-aabb4a6c322f"
      },
      "source": [
        "# load model and show vocab\r\n",
        "learn_inf=load_learner(path/'colabimg/export.pkl')\r\n",
        "# all possible responses\r\n",
        "learn_inf.dls.vocab"
      ],
      "execution_count": null,
      "outputs": [
        {
          "output_type": "execute_result",
          "data": {
            "text/plain": [
              "['black', 'grizzly', 'teddy']"
            ]
          },
          "metadata": {
            "tags": []
          },
          "execution_count": 2
        }
      ]
    },
    {
      "cell_type": "code",
      "metadata": {
        "id": "fd0pxU7bXgyA"
      },
      "source": [
        "# define label area\r\n",
        "lbl_pred = widgets.Label()\r\n",
        "# and file upload button and classify buttons\r\n",
        "btn_upload = widgets.FileUpload()\r\n",
        "btn_run = widgets.Button(description='Classify')\r\n"
      ],
      "execution_count": null,
      "outputs": []
    },
    {
      "cell_type": "code",
      "metadata": {
        "id": "BYm4Paf-1zAk"
      },
      "source": [
        "# function to pass uploaded image to bear detector model\n",
        "def on_click_classify(change):\n",
        "    img = PILImage.create(btn_upload.data[-1])\n",
        "    out_pl.clear_output()\n",
        "    with out_pl: display(img.to_thumb(128,128))\n",
        "    pred,pred_idx,probs = learn_inf.predict(img)\n",
        "    lbl_pred.value = f'Prediction: {pred}; Probability: {probs[pred_idx]:.04f}'\n",
        "\n",
        "btn_run.on_click(on_click_classify)"
      ],
      "execution_count": null,
      "outputs": []
    },
    {
      "cell_type": "code",
      "metadata": {
        "id": "UioLWE3tdzph",
        "colab": {
          "base_uri": "https://localhost:8080/",
          "height": 273,
          "referenced_widgets": [
            "72a765e2904443b9a331f773a32495c6",
            "a53499baf282432f836be7fbfb455e6c",
            "be273d9a78ca4ff99ce972d8c08486c8",
            "58017067736843f1a9537d14330a7555",
            "52eb8dd831c24b5a87a6eb84922de6f8",
            "3cede3b3c5314a8597842ac9a0be36d1",
            "633a6e45fd2647348368b2c2c2d96768",
            "a0feea2f4bbb4a8497e3e0e341ddf2df",
            "90938a1244434ee6989b2bbc054c15fd",
            "68e282bfb5974131a617d906405b54a4",
            "655a9d1b39f7413b96f43eeb44e46d96",
            "13ff6bf4a07347f983a661f4be5c95c0",
            "79c7a6a74a2249aeb2156243c6929594",
            "124e330edf684834ba72a2e2cb37cd2e",
            "eb65f0e87e7f4293a6c36fb4012cfe33",
            "cf4314fd1b18460696a2eee53c4ebee9"
          ]
        },
        "outputId": "d934c2bb-c3ae-4ec5-e61c-4fbb66733727"
      },
      "source": [
        "# displays UI and results\n",
        "out_pl = widgets.Output()\n",
        "VBox([widgets.Label('Select a bear image to classify - uploading will delay results; use small image!'), \n",
        "      btn_upload, btn_run, out_pl, lbl_pred])"
      ],
      "execution_count": null,
      "outputs": [
        {
          "output_type": "display_data",
          "data": {
            "application/vnd.jupyter.widget-view+json": {
              "model_id": "72a765e2904443b9a331f773a32495c6",
              "version_minor": 0,
              "version_major": 2
            },
            "text/plain": [
              "VBox(children=(Label(value='Select a bear image to classify - uploading will delay results; use small image!')…"
            ]
          },
          "metadata": {
            "tags": []
          }
        },
        {
          "output_type": "display_data",
          "data": {
            "text/html": [
              ""
            ],
            "text/plain": [
              "<IPython.core.display.HTML object>"
            ]
          },
          "metadata": {
            "tags": []
          }
        }
      ]
    },
    {
      "cell_type": "code",
      "metadata": {
        "id": "fQwbsGWuBS1i"
      },
      "source": [
        ""
      ],
      "execution_count": null,
      "outputs": []
    },
    {
      "cell_type": "markdown",
      "metadata": {
        "id": "27_c5fe_AyyD"
      },
      "source": [
        "!pip install voila\n",
        "!jupyter serverextension enable --sys-prefix voila\n",
        "\n"
      ]
    }
  ]
}