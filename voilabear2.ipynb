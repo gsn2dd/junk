{
  "nbformat": 4,
  "nbformat_minor": 0,
  "metadata": {
    "colab": {
      "name": "voilabear2.ipynb",
      "provenance": [],
      "authorship_tag": "ABX9TyM8CmFy59GDDrduQMfu3zoQ",
      "include_colab_link": true
    },
    "kernelspec": {
      "name": "python3",
      "display_name": "Python 3"
    },
    "widgets": {
      "application/vnd.jupyter.widget-state+json": {
        "33777a9b5c5549db9332a27516634221": {
          "model_module": "@jupyter-widgets/controls",
          "model_name": "FileUploadModel",
          "state": {
            "_view_name": "FileUploadView",
            "_counter": 1,
            "style": "IPY_MODEL_fda05933722044f4ae43668d3ad046f9",
            "_dom_classes": [],
            "description": "Upload",
            "multiple": false,
            "_model_name": "FileUploadModel",
            "data": [
              null
            ],
            "button_style": "",
            "_view_module": "@jupyter-widgets/controls",
            "_model_module_version": "1.5.0",
            "accept": "",
            "_view_count": null,
            "disabled": false,
            "_view_module_version": "1.5.0",
            "error": "",
            "description_tooltip": null,
            "metadata": [
              {
                "name": "goat.jpg",
                "type": "image/jpeg",
                "size": 2699,
                "lastModified": 1611343274059
              }
            ],
            "_model_module": "@jupyter-widgets/controls",
            "layout": "IPY_MODEL_5586bc11c43b46f3b1d1ba03e306e722",
            "icon": "upload"
          }
        },
        "fda05933722044f4ae43668d3ad046f9": {
          "model_module": "@jupyter-widgets/controls",
          "model_name": "ButtonStyleModel",
          "state": {
            "_view_name": "StyleView",
            "_model_name": "ButtonStyleModel",
            "_view_module": "@jupyter-widgets/base",
            "_model_module_version": "1.5.0",
            "_view_count": null,
            "button_color": null,
            "font_weight": "",
            "_view_module_version": "1.2.0",
            "_model_module": "@jupyter-widgets/controls"
          }
        },
        "5586bc11c43b46f3b1d1ba03e306e722": {
          "model_module": "@jupyter-widgets/base",
          "model_name": "LayoutModel",
          "state": {
            "_view_name": "LayoutView",
            "grid_template_rows": null,
            "right": null,
            "justify_content": null,
            "_view_module": "@jupyter-widgets/base",
            "overflow": null,
            "_model_module_version": "1.2.0",
            "_view_count": null,
            "flex_flow": null,
            "width": null,
            "min_width": null,
            "border": null,
            "align_items": null,
            "bottom": null,
            "_model_module": "@jupyter-widgets/base",
            "top": null,
            "grid_column": null,
            "overflow_y": null,
            "overflow_x": null,
            "grid_auto_flow": null,
            "grid_area": null,
            "grid_template_columns": null,
            "flex": null,
            "_model_name": "LayoutModel",
            "justify_items": null,
            "grid_row": null,
            "max_height": null,
            "align_content": null,
            "visibility": null,
            "align_self": null,
            "height": null,
            "min_height": null,
            "padding": null,
            "grid_auto_rows": null,
            "grid_gap": null,
            "max_width": null,
            "order": null,
            "_view_module_version": "1.2.0",
            "grid_template_areas": null,
            "object_position": null,
            "object_fit": null,
            "grid_auto_columns": null,
            "margin": null,
            "display": null,
            "left": null
          }
        },
        "db94c1a92b294405baeb71a787bb8818": {
          "model_module": "@jupyter-widgets/output",
          "model_name": "OutputModel",
          "state": {
            "_view_name": "OutputView",
            "msg_id": "",
            "_dom_classes": [],
            "_model_name": "OutputModel",
            "outputs": [
              {
                "output_type": "display_data",
                "metadata": {
                  "tags": []
                },
                "image/png": "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\n",
                "text/plain": "<PIL.Image.Image image mode=RGB size=128x72 at 0x7F16E91C4908>"
              }
            ],
            "_view_module": "@jupyter-widgets/output",
            "_model_module_version": "1.0.0",
            "_view_count": null,
            "_view_module_version": "1.0.0",
            "layout": "IPY_MODEL_b33498b1d24d4f1eae3e651e9cdb4301",
            "_model_module": "@jupyter-widgets/output"
          }
        },
        "b33498b1d24d4f1eae3e651e9cdb4301": {
          "model_module": "@jupyter-widgets/base",
          "model_name": "LayoutModel",
          "state": {
            "_view_name": "LayoutView",
            "grid_template_rows": null,
            "right": null,
            "justify_content": null,
            "_view_module": "@jupyter-widgets/base",
            "overflow": null,
            "_model_module_version": "1.2.0",
            "_view_count": null,
            "flex_flow": null,
            "width": null,
            "min_width": null,
            "border": null,
            "align_items": null,
            "bottom": null,
            "_model_module": "@jupyter-widgets/base",
            "top": null,
            "grid_column": null,
            "overflow_y": null,
            "overflow_x": null,
            "grid_auto_flow": null,
            "grid_area": null,
            "grid_template_columns": null,
            "flex": null,
            "_model_name": "LayoutModel",
            "justify_items": null,
            "grid_row": null,
            "max_height": null,
            "align_content": null,
            "visibility": null,
            "align_self": null,
            "height": null,
            "min_height": null,
            "padding": null,
            "grid_auto_rows": null,
            "grid_gap": null,
            "max_width": null,
            "order": null,
            "_view_module_version": "1.2.0",
            "grid_template_areas": null,
            "object_position": null,
            "object_fit": null,
            "grid_auto_columns": null,
            "margin": null,
            "display": null,
            "left": null
          }
        },
        "dd74b3b90f434d9a9659298432790c2c": {
          "model_module": "@jupyter-widgets/controls",
          "model_name": "LabelModel",
          "state": {
            "_view_name": "LabelView",
            "style": "IPY_MODEL_70945e5cd7574822a11480243f3cbde6",
            "_dom_classes": [],
            "description": "",
            "_model_name": "LabelModel",
            "placeholder": "​",
            "_view_module": "@jupyter-widgets/controls",
            "_model_module_version": "1.5.0",
            "value": "Prediction: teddy; Probability: 0.9989",
            "_view_count": null,
            "_view_module_version": "1.5.0",
            "description_tooltip": null,
            "_model_module": "@jupyter-widgets/controls",
            "layout": "IPY_MODEL_07b08a30469d4661aed1a870736fde10"
          }
        },
        "70945e5cd7574822a11480243f3cbde6": {
          "model_module": "@jupyter-widgets/controls",
          "model_name": "DescriptionStyleModel",
          "state": {
            "_view_name": "StyleView",
            "_model_name": "DescriptionStyleModel",
            "description_width": "",
            "_view_module": "@jupyter-widgets/base",
            "_model_module_version": "1.5.0",
            "_view_count": null,
            "_view_module_version": "1.2.0",
            "_model_module": "@jupyter-widgets/controls"
          }
        },
        "07b08a30469d4661aed1a870736fde10": {
          "model_module": "@jupyter-widgets/base",
          "model_name": "LayoutModel",
          "state": {
            "_view_name": "LayoutView",
            "grid_template_rows": null,
            "right": null,
            "justify_content": null,
            "_view_module": "@jupyter-widgets/base",
            "overflow": null,
            "_model_module_version": "1.2.0",
            "_view_count": null,
            "flex_flow": null,
            "width": null,
            "min_width": null,
            "border": null,
            "align_items": null,
            "bottom": null,
            "_model_module": "@jupyter-widgets/base",
            "top": null,
            "grid_column": null,
            "overflow_y": null,
            "overflow_x": null,
            "grid_auto_flow": null,
            "grid_area": null,
            "grid_template_columns": null,
            "flex": null,
            "_model_name": "LayoutModel",
            "justify_items": null,
            "grid_row": null,
            "max_height": null,
            "align_content": null,
            "visibility": null,
            "align_self": null,
            "height": null,
            "min_height": null,
            "padding": null,
            "grid_auto_rows": null,
            "grid_gap": null,
            "max_width": null,
            "order": null,
            "_view_module_version": "1.2.0",
            "grid_template_areas": null,
            "object_position": null,
            "object_fit": null,
            "grid_auto_columns": null,
            "margin": null,
            "display": null,
            "left": null
          }
        },
        "253be01c1d194f7282b96dff680add4d": {
          "model_module": "@jupyter-widgets/controls",
          "model_name": "ButtonModel",
          "state": {
            "_view_name": "ButtonView",
            "style": "IPY_MODEL_afb0659142d345daa7f4d70a83380fb0",
            "_dom_classes": [],
            "description": "Classify",
            "_model_name": "ButtonModel",
            "button_style": "",
            "_view_module": "@jupyter-widgets/controls",
            "_model_module_version": "1.5.0",
            "tooltip": "",
            "_view_count": null,
            "disabled": false,
            "_view_module_version": "1.5.0",
            "layout": "IPY_MODEL_1af8a0f9273a4f20b75f730284be2740",
            "_model_module": "@jupyter-widgets/controls",
            "icon": ""
          }
        },
        "afb0659142d345daa7f4d70a83380fb0": {
          "model_module": "@jupyter-widgets/controls",
          "model_name": "ButtonStyleModel",
          "state": {
            "_view_name": "StyleView",
            "_model_name": "ButtonStyleModel",
            "_view_module": "@jupyter-widgets/base",
            "_model_module_version": "1.5.0",
            "_view_count": null,
            "button_color": null,
            "font_weight": "",
            "_view_module_version": "1.2.0",
            "_model_module": "@jupyter-widgets/controls"
          }
        },
        "1af8a0f9273a4f20b75f730284be2740": {
          "model_module": "@jupyter-widgets/base",
          "model_name": "LayoutModel",
          "state": {
            "_view_name": "LayoutView",
            "grid_template_rows": null,
            "right": null,
            "justify_content": null,
            "_view_module": "@jupyter-widgets/base",
            "overflow": null,
            "_model_module_version": "1.2.0",
            "_view_count": null,
            "flex_flow": null,
            "width": null,
            "min_width": null,
            "border": null,
            "align_items": null,
            "bottom": null,
            "_model_module": "@jupyter-widgets/base",
            "top": null,
            "grid_column": null,
            "overflow_y": null,
            "overflow_x": null,
            "grid_auto_flow": null,
            "grid_area": null,
            "grid_template_columns": null,
            "flex": null,
            "_model_name": "LayoutModel",
            "justify_items": null,
            "grid_row": null,
            "max_height": null,
            "align_content": null,
            "visibility": null,
            "align_self": null,
            "height": null,
            "min_height": null,
            "padding": null,
            "grid_auto_rows": null,
            "grid_gap": null,
            "max_width": null,
            "order": null,
            "_view_module_version": "1.2.0",
            "grid_template_areas": null,
            "object_position": null,
            "object_fit": null,
            "grid_auto_columns": null,
            "margin": null,
            "display": null,
            "left": null
          }
        },
        "2358ce1902de4a91923587230653492c": {
          "model_module": "@jupyter-widgets/controls",
          "model_name": "VBoxModel",
          "state": {
            "_view_name": "VBoxView",
            "_dom_classes": [],
            "_model_name": "VBoxModel",
            "_view_module": "@jupyter-widgets/controls",
            "_model_module_version": "1.5.0",
            "_view_count": null,
            "_view_module_version": "1.5.0",
            "box_style": "",
            "layout": "IPY_MODEL_e0d83801406646c1b895226abc5ec77c",
            "_model_module": "@jupyter-widgets/controls",
            "children": [
              "IPY_MODEL_3365d4b4d55447208df46f4aae0d1cee",
              "IPY_MODEL_bda6bf9154b04d9f96bee32bced03ca6",
              "IPY_MODEL_253be01c1d194f7282b96dff680add4d",
              "IPY_MODEL_e84d6244755b44d3af40645ec8bff24f",
              "IPY_MODEL_dd74b3b90f434d9a9659298432790c2c"
            ]
          }
        },
        "e0d83801406646c1b895226abc5ec77c": {
          "model_module": "@jupyter-widgets/base",
          "model_name": "LayoutModel",
          "state": {
            "_view_name": "LayoutView",
            "grid_template_rows": null,
            "right": null,
            "justify_content": null,
            "_view_module": "@jupyter-widgets/base",
            "overflow": null,
            "_model_module_version": "1.2.0",
            "_view_count": null,
            "flex_flow": null,
            "width": null,
            "min_width": null,
            "border": null,
            "align_items": null,
            "bottom": null,
            "_model_module": "@jupyter-widgets/base",
            "top": null,
            "grid_column": null,
            "overflow_y": null,
            "overflow_x": null,
            "grid_auto_flow": null,
            "grid_area": null,
            "grid_template_columns": null,
            "flex": null,
            "_model_name": "LayoutModel",
            "justify_items": null,
            "grid_row": null,
            "max_height": null,
            "align_content": null,
            "visibility": null,
            "align_self": null,
            "height": null,
            "min_height": null,
            "padding": null,
            "grid_auto_rows": null,
            "grid_gap": null,
            "max_width": null,
            "order": null,
            "_view_module_version": "1.2.0",
            "grid_template_areas": null,
            "object_position": null,
            "object_fit": null,
            "grid_auto_columns": null,
            "margin": null,
            "display": null,
            "left": null
          }
        },
        "3365d4b4d55447208df46f4aae0d1cee": {
          "model_module": "@jupyter-widgets/controls",
          "model_name": "LabelModel",
          "state": {
            "_view_name": "LabelView",
            "style": "IPY_MODEL_8e1ddba34d224d8882e7d423bec31bbc",
            "_dom_classes": [],
            "description": "",
            "_model_name": "LabelModel",
            "placeholder": "​",
            "_view_module": "@jupyter-widgets/controls",
            "_model_module_version": "1.5.0",
            "value": "Select your bear!",
            "_view_count": null,
            "_view_module_version": "1.5.0",
            "description_tooltip": null,
            "_model_module": "@jupyter-widgets/controls",
            "layout": "IPY_MODEL_f13fdf4bd46842aaa2f8d9cfe1018e8d"
          }
        },
        "bda6bf9154b04d9f96bee32bced03ca6": {
          "model_module": "@jupyter-widgets/controls",
          "model_name": "FileUploadModel",
          "state": {
            "_view_name": "FileUploadView",
            "_counter": 2,
            "style": "IPY_MODEL_f9acd26cd555433792571515017c5c4f",
            "_dom_classes": [],
            "description": "Upload",
            "multiple": false,
            "_model_name": "FileUploadModel",
            "data": [
              null
            ],
            "button_style": "",
            "_view_module": "@jupyter-widgets/controls",
            "_model_module_version": "1.5.0",
            "accept": "",
            "_view_count": null,
            "disabled": false,
            "_view_module_version": "1.5.0",
            "error": "",
            "description_tooltip": null,
            "metadata": [
              {
                "name": "goat.jpg",
                "type": "image/jpeg",
                "size": 2699,
                "lastModified": 1611343274059
              }
            ],
            "_model_module": "@jupyter-widgets/controls",
            "layout": "IPY_MODEL_4bf8d97d1d8547cdbc2aa971813bb8c7",
            "icon": "upload"
          }
        },
        "e84d6244755b44d3af40645ec8bff24f": {
          "model_module": "@jupyter-widgets/output",
          "model_name": "OutputModel",
          "state": {
            "_view_name": "OutputView",
            "msg_id": "",
            "_dom_classes": [],
            "_model_name": "OutputModel",
            "outputs": [
              {
                "output_type": "display_data",
                "metadata": {
                  "tags": []
                },
                "image/png": "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\n",
                "text/plain": "<PIL.Image.Image image mode=RGB size=128x72 at 0x7F16E9249A20>"
              }
            ],
            "_view_module": "@jupyter-widgets/output",
            "_model_module_version": "1.0.0",
            "_view_count": null,
            "_view_module_version": "1.0.0",
            "layout": "IPY_MODEL_654874da9ee6404c9767799624af90b9",
            "_model_module": "@jupyter-widgets/output"
          }
        },
        "8e1ddba34d224d8882e7d423bec31bbc": {
          "model_module": "@jupyter-widgets/controls",
          "model_name": "DescriptionStyleModel",
          "state": {
            "_view_name": "StyleView",
            "_model_name": "DescriptionStyleModel",
            "description_width": "",
            "_view_module": "@jupyter-widgets/base",
            "_model_module_version": "1.5.0",
            "_view_count": null,
            "_view_module_version": "1.2.0",
            "_model_module": "@jupyter-widgets/controls"
          }
        },
        "f13fdf4bd46842aaa2f8d9cfe1018e8d": {
          "model_module": "@jupyter-widgets/base",
          "model_name": "LayoutModel",
          "state": {
            "_view_name": "LayoutView",
            "grid_template_rows": null,
            "right": null,
            "justify_content": null,
            "_view_module": "@jupyter-widgets/base",
            "overflow": null,
            "_model_module_version": "1.2.0",
            "_view_count": null,
            "flex_flow": null,
            "width": null,
            "min_width": null,
            "border": null,
            "align_items": null,
            "bottom": null,
            "_model_module": "@jupyter-widgets/base",
            "top": null,
            "grid_column": null,
            "overflow_y": null,
            "overflow_x": null,
            "grid_auto_flow": null,
            "grid_area": null,
            "grid_template_columns": null,
            "flex": null,
            "_model_name": "LayoutModel",
            "justify_items": null,
            "grid_row": null,
            "max_height": null,
            "align_content": null,
            "visibility": null,
            "align_self": null,
            "height": null,
            "min_height": null,
            "padding": null,
            "grid_auto_rows": null,
            "grid_gap": null,
            "max_width": null,
            "order": null,
            "_view_module_version": "1.2.0",
            "grid_template_areas": null,
            "object_position": null,
            "object_fit": null,
            "grid_auto_columns": null,
            "margin": null,
            "display": null,
            "left": null
          }
        },
        "f9acd26cd555433792571515017c5c4f": {
          "model_module": "@jupyter-widgets/controls",
          "model_name": "ButtonStyleModel",
          "state": {
            "_view_name": "StyleView",
            "_model_name": "ButtonStyleModel",
            "_view_module": "@jupyter-widgets/base",
            "_model_module_version": "1.5.0",
            "_view_count": null,
            "button_color": null,
            "font_weight": "",
            "_view_module_version": "1.2.0",
            "_model_module": "@jupyter-widgets/controls"
          }
        },
        "4bf8d97d1d8547cdbc2aa971813bb8c7": {
          "model_module": "@jupyter-widgets/base",
          "model_name": "LayoutModel",
          "state": {
            "_view_name": "LayoutView",
            "grid_template_rows": null,
            "right": null,
            "justify_content": null,
            "_view_module": "@jupyter-widgets/base",
            "overflow": null,
            "_model_module_version": "1.2.0",
            "_view_count": null,
            "flex_flow": null,
            "width": null,
            "min_width": null,
            "border": null,
            "align_items": null,
            "bottom": null,
            "_model_module": "@jupyter-widgets/base",
            "top": null,
            "grid_column": null,
            "overflow_y": null,
            "overflow_x": null,
            "grid_auto_flow": null,
            "grid_area": null,
            "grid_template_columns": null,
            "flex": null,
            "_model_name": "LayoutModel",
            "justify_items": null,
            "grid_row": null,
            "max_height": null,
            "align_content": null,
            "visibility": null,
            "align_self": null,
            "height": null,
            "min_height": null,
            "padding": null,
            "grid_auto_rows": null,
            "grid_gap": null,
            "max_width": null,
            "order": null,
            "_view_module_version": "1.2.0",
            "grid_template_areas": null,
            "object_position": null,
            "object_fit": null,
            "grid_auto_columns": null,
            "margin": null,
            "display": null,
            "left": null
          }
        },
        "654874da9ee6404c9767799624af90b9": {
          "model_module": "@jupyter-widgets/base",
          "model_name": "LayoutModel",
          "state": {
            "_view_name": "LayoutView",
            "grid_template_rows": null,
            "right": null,
            "justify_content": null,
            "_view_module": "@jupyter-widgets/base",
            "overflow": null,
            "_model_module_version": "1.2.0",
            "_view_count": null,
            "flex_flow": null,
            "width": null,
            "min_width": null,
            "border": null,
            "align_items": null,
            "bottom": null,
            "_model_module": "@jupyter-widgets/base",
            "top": null,
            "grid_column": null,
            "overflow_y": null,
            "overflow_x": null,
            "grid_auto_flow": null,
            "grid_area": null,
            "grid_template_columns": null,
            "flex": null,
            "_model_name": "LayoutModel",
            "justify_items": null,
            "grid_row": null,
            "max_height": null,
            "align_content": null,
            "visibility": null,
            "align_self": null,
            "height": null,
            "min_height": null,
            "padding": null,
            "grid_auto_rows": null,
            "grid_gap": null,
            "max_width": null,
            "order": null,
            "_view_module_version": "1.2.0",
            "grid_template_areas": null,
            "object_position": null,
            "object_fit": null,
            "grid_auto_columns": null,
            "margin": null,
            "display": null,
            "left": null
          }
        }
      }
    }
  },
  "cells": [
    {
      "cell_type": "markdown",
      "metadata": {
        "id": "view-in-github",
        "colab_type": "text"
      },
      "source": [
        "<a href=\"https://colab.research.google.com/github/gsn2dd/junk/blob/main/voilabear2.ipynb\" target=\"_parent\"><img src=\"https://colab.research.google.com/assets/colab-badge.svg\" alt=\"Open In Colab\"/></a>"
      ]
    },
    {
      "cell_type": "code",
      "metadata": {
        "colab": {
          "base_uri": "https://localhost:8080/"
        },
        "id": "aEQz8gR74Q1Z",
        "outputId": "d8017826-19ff-46e5-8984-178044141bce"
      },
      "source": [
        "!pip install -Uqq fastbook\r\n",
        "import fastbook\r\n",
        "\r\n",
        "from fastbook import *\r\n",
        "from fastai.vision.widgets import *\r\n",
        "\r\n",
        "from google.colab import drive\r\n",
        "drive.mount('/content/drive', force_remount=False )\r\n",
        "path=Path('/content/drive/My Drive')\r\n"
      ],
      "execution_count": 83,
      "outputs": [
        {
          "output_type": "stream",
          "text": [
            "Drive already mounted at /content/drive; to attempt to forcibly remount, call drive.mount(\"/content/drive\", force_remount=True).\n"
          ],
          "name": "stdout"
        }
      ]
    },
    {
      "cell_type": "code",
      "metadata": {
        "colab": {
          "base_uri": "https://localhost:8080/"
        },
        "id": "5uZKAK9cq5Yq",
        "outputId": "820b1f96-6411-467b-8898-4a5d142534b9"
      },
      "source": [
        "# load model and show vocab\r\n",
        "learn_inf=load_learner(path/'colabimg/export.pkl')\r\n",
        "learn_inf.dls.vocab"
      ],
      "execution_count": 84,
      "outputs": [
        {
          "output_type": "execute_result",
          "data": {
            "text/plain": [
              "['black', 'grizzly', 'teddy']"
            ]
          },
          "metadata": {
            "tags": []
          },
          "execution_count": 84
        }
      ]
    },
    {
      "cell_type": "code",
      "metadata": {
        "id": "CSkT5Pvldzpe",
        "colab": {
          "base_uri": "https://localhost:8080/",
          "height": 49,
          "referenced_widgets": [
            "33777a9b5c5549db9332a27516634221",
            "fda05933722044f4ae43668d3ad046f9",
            "5586bc11c43b46f3b1d1ba03e306e722"
          ]
        },
        "outputId": "6662fb60-f1b9-465a-b8dc-dc04062e2a1a"
      },
      "source": [
        "#create button to click\n",
        "btn_upload = widgets.FileUpload()\n",
        "btn_upload"
      ],
      "execution_count": 85,
      "outputs": [
        {
          "output_type": "display_data",
          "data": {
            "application/vnd.jupyter.widget-view+json": {
              "model_id": "33777a9b5c5549db9332a27516634221",
              "version_minor": 0,
              "version_major": 2
            },
            "text/plain": [
              "FileUpload(value={}, description='Upload')"
            ]
          },
          "metadata": {
            "tags": []
          }
        }
      ]
    },
    {
      "cell_type": "code",
      "metadata": {
        "id": "9U1ooUb8dzpe"
      },
      "source": [
        "img = PILImage.create(btn_upload.data[-1])\r\n",
        "# no output"
      ],
      "execution_count": 87,
      "outputs": []
    },
    {
      "cell_type": "code",
      "metadata": {
        "id": "LmTmI_hrdzpf",
        "colab": {
          "base_uri": "https://localhost:8080/",
          "height": 89,
          "referenced_widgets": [
            "db94c1a92b294405baeb71a787bb8818",
            "b33498b1d24d4f1eae3e651e9cdb4301"
          ]
        },
        "outputId": "57f10f1f-2575-4154-a94f-c2fd5defd246"
      },
      "source": [
        "# display image\n",
        "out_pl = widgets.Output()\n",
        "out_pl.clear_output()\n",
        "with out_pl: display(img.to_thumb(128,128))\n",
        "out_pl"
      ],
      "execution_count": 95,
      "outputs": [
        {
          "output_type": "display_data",
          "data": {
            "application/vnd.jupyter.widget-view+json": {
              "model_id": "db94c1a92b294405baeb71a787bb8818",
              "version_minor": 0,
              "version_major": 2
            },
            "text/plain": [
              "Output()"
            ]
          },
          "metadata": {
            "tags": []
          }
        }
      ]
    },
    {
      "cell_type": "code",
      "metadata": {
        "id": "LLjyqxp3dzpf",
        "colab": {
          "base_uri": "https://localhost:8080/",
          "height": 17
        },
        "outputId": "cd3b09c6-fff9-48f5-e840-f559fe7e0df3"
      },
      "source": [
        "pred,pred_idx,probs = learn_inf.predict(img)\r\n",
        "# output next cell"
      ],
      "execution_count": 89,
      "outputs": [
        {
          "output_type": "display_data",
          "data": {
            "text/html": [
              ""
            ],
            "text/plain": [
              "<IPython.core.display.HTML object>"
            ]
          },
          "metadata": {
            "tags": []
          }
        }
      ]
    },
    {
      "cell_type": "code",
      "metadata": {
        "colab": {
          "base_uri": "https://localhost:8080/",
          "height": 49,
          "referenced_widgets": [
            "dd74b3b90f434d9a9659298432790c2c",
            "70945e5cd7574822a11480243f3cbde6",
            "07b08a30469d4661aed1a870736fde10"
          ]
        },
        "id": "jjpeJ3tPwuQq",
        "outputId": "6aca9aab-ed95-48cb-80a3-5374734ba572"
      },
      "source": [
        "lbl_pred = widgets.Label()\n",
        "lbl_pred.value = f'Prediction: {pred}; Probability: {probs[pred_idx]:.04f}'\n",
        "lbl_pred"
      ],
      "execution_count": 90,
      "outputs": [
        {
          "output_type": "display_data",
          "data": {
            "application/vnd.jupyter.widget-view+json": {
              "model_id": "dd74b3b90f434d9a9659298432790c2c",
              "version_minor": 0,
              "version_major": 2
            },
            "text/plain": [
              "Label(value='Prediction: teddy; Probability: 0.9989')"
            ]
          },
          "metadata": {
            "tags": []
          }
        }
      ]
    },
    {
      "cell_type": "code",
      "metadata": {
        "id": "BLIcBVH7dzpg",
        "colab": {
          "base_uri": "https://localhost:8080/",
          "height": 49,
          "referenced_widgets": [
            "253be01c1d194f7282b96dff680add4d",
            "afb0659142d345daa7f4d70a83380fb0",
            "1af8a0f9273a4f20b75f730284be2740"
          ]
        },
        "outputId": "eca4d064-0214-4eca-e877-165a35be4454"
      },
      "source": [
        "#hide_output\n",
        "btn_run = widgets.Button(description='Classify')\n",
        "btn_run"
      ],
      "execution_count": 91,
      "outputs": [
        {
          "output_type": "display_data",
          "data": {
            "application/vnd.jupyter.widget-view+json": {
              "model_id": "253be01c1d194f7282b96dff680add4d",
              "version_minor": 0,
              "version_major": 2
            },
            "text/plain": [
              "Button(description='Classify', style=ButtonStyle())"
            ]
          },
          "metadata": {
            "tags": []
          }
        }
      ]
    },
    {
      "cell_type": "code",
      "metadata": {
        "id": "BYm4Paf-1zAk"
      },
      "source": [
        "def on_click_classify(change):\n",
        "    img = PILImage.create(btn_upload.data[-1])\n",
        "    out_pl.clear_output()\n",
        "    with out_pl: display(img.to_thumb(128,128))\n",
        "    pred,pred_idx,probs = learn_inf.predict(img)\n",
        "    lbl_pred.value = f'Prediction: {pred}; Probability: {probs[pred_idx]:.04f}'\n",
        "\n",
        "btn_run.on_click(on_click_classify)"
      ],
      "execution_count": 92,
      "outputs": []
    },
    {
      "cell_type": "code",
      "metadata": {
        "id": "030tXhUDdzph"
      },
      "source": [
        "#hide\n",
        "#Putting back btn_upload to a widget for next cell\n",
        "btn_upload = widgets.FileUpload()"
      ],
      "execution_count": 93,
      "outputs": []
    },
    {
      "cell_type": "code",
      "metadata": {
        "id": "UioLWE3tdzph",
        "colab": {
          "base_uri": "https://localhost:8080/",
          "height": 217,
          "referenced_widgets": [
            "2358ce1902de4a91923587230653492c",
            "e0d83801406646c1b895226abc5ec77c",
            "3365d4b4d55447208df46f4aae0d1cee",
            "bda6bf9154b04d9f96bee32bced03ca6",
            "253be01c1d194f7282b96dff680add4d",
            "e84d6244755b44d3af40645ec8bff24f",
            "dd74b3b90f434d9a9659298432790c2c",
            "8e1ddba34d224d8882e7d423bec31bbc",
            "f13fdf4bd46842aaa2f8d9cfe1018e8d",
            "f9acd26cd555433792571515017c5c4f",
            "4bf8d97d1d8547cdbc2aa971813bb8c7",
            "afb0659142d345daa7f4d70a83380fb0",
            "1af8a0f9273a4f20b75f730284be2740",
            "70945e5cd7574822a11480243f3cbde6",
            "07b08a30469d4661aed1a870736fde10",
            "654874da9ee6404c9767799624af90b9"
          ]
        },
        "outputId": "a2ba20e6-aea1-47ab-8ef3-522a6dacce96"
      },
      "source": [
        "#hide_output\n",
        "VBox([widgets.Label('Select your bear!'), \n",
        "      btn_upload, btn_run, out_pl, lbl_pred])"
      ],
      "execution_count": 94,
      "outputs": [
        {
          "output_type": "display_data",
          "data": {
            "application/vnd.jupyter.widget-view+json": {
              "model_id": "2358ce1902de4a91923587230653492c",
              "version_minor": 0,
              "version_major": 2
            },
            "text/plain": [
              "VBox(children=(Label(value='Select your bear!'), FileUpload(value={}, description='Upload'), Button(descriptio…"
            ]
          },
          "metadata": {
            "tags": []
          }
        },
        {
          "output_type": "display_data",
          "data": {
            "text/html": [
              ""
            ],
            "text/plain": [
              "<IPython.core.display.HTML object>"
            ]
          },
          "metadata": {
            "tags": []
          }
        },
        {
          "output_type": "display_data",
          "data": {
            "text/html": [
              ""
            ],
            "text/plain": [
              "<IPython.core.display.HTML object>"
            ]
          },
          "metadata": {
            "tags": []
          }
        }
      ]
    }
  ]
}